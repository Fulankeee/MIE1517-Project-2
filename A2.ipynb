{
  "cells": [
    {
      "cell_type": "markdown",
      "metadata": {
        "id": "X6WDvajSqIDs"
      },
      "source": [
        "# Assignment 2: Hand Gesture Recognition [50 Pt]\n",
        "\n",
        "This assignment will be completed in two parts. In Part A you will gain experience gathering your own data set (specifically images of hand gestures), and understand the challenges involved in the data cleaning process. In Part B you will train a convolutional neural network to make classifications on different hand gestures. By the end of this assignment, you should be able to:\n",
        "\n",
        "1. Generate and preprocess your own data\n",
        "2. Load and split data for training, validation and testing\n",
        "3. Train a Convolutional Neural Network\n",
        "4. Apply transfer learning to improve your model\n",
        "\n",
        "Note that for this assignment we will not be providing you with any starter code. You should be able to take the sample code provided in the preparation sample code, previous assignment, and lectures and modify it accordingly to complete the tasks outlined below.\n",
        "\n",
        "*This assignment is based on an assignment developed by Prof. Lisa Zhang.*\n",
        "\n",
        "### What to submit\n",
        "\n",
        "**Submission for Part A:**  \n",
        "Submit a zip file containing your images. Three images each of American Sign Language gestures for letters A - I (total of 27 images). You will be required to clean the images before submitting them. Details are provided under Part A of the handout.\n",
        "\n",
        "Individual image file names should follow the convention of student-number_Alphabet_file-number.jpg\n",
        "(e.g. 100343434_A_1.jpg).\n",
        "\n",
        "\n",
        "**Submission for Part B:**  \n",
        "Submit an HTML file containing all your code, outputs, and write-up\n",
        "from parts A and B. You can produce a HTML file directly from Google Colab. The Colab instructions are provided at the end of this document.\n",
        "For Part B5(iii), submit a single .csv file following the specified naming and formatting instructions.\n",
        "\n",
        "**Do not submit any other files produced by your code.**\n",
        "\n",
        "Include a link to your colab file in your submission.\n",
        "\n",
        "Please use Google Colab to complete this assignment. If you want to use Jupyter Notebook, please complete the assignment and upload your Jupyter Notebook file to Google Colab for submission."
      ]
    },
    {
      "cell_type": "markdown",
      "metadata": {
        "id": "LfiFE_WOqIDu"
      },
      "source": [
        "## Colab Link\n",
        "\n",
        "Include a link to your colab file here and ensure the file can be accessed by the our teaching team.\n"
      ]
    },
    {
      "cell_type": "code",
      "execution_count": null,
      "metadata": {
        "id": "TeX7gWbmMdqh"
      },
      "outputs": [],
      "source": [
        "# TO BE COMPLETED\n",
        "# https://colab.research.google.com/github/Fulankeee/MIE1517-Project-2/blob/main/A2.ipynb#scrollTo=X6WDvajSqIDs"
      ]
    },
    {
      "cell_type": "markdown",
      "metadata": {
        "id": "kvTXpH_kqIDy"
      },
      "source": [
        "# Part A. Data Collection [5pt]\n",
        "\n",
        "So far, we have worked with data sets that have been collected, cleaned, and curated by machine learning\n",
        "researchers and practitioners. Datasets like MNIST and CIFAR are often used as toy examples, both by\n",
        "students and by researchers testing new machine learning models.\n",
        "\n",
        "In the real world, getting a clean data set is never that easy. More than half the work in applying machine\n",
        "learning is finding, gathering, cleaning, and formatting your data set.\n",
        "\n",
        "The purpose of this assignment is to help you gain experience gathering your own data set, and understand the\n",
        "challenges involved in the data cleaning process.\n",
        "\n",
        "### American Sign Language\n",
        "\n",
        "American Sign Language (ASL) is a complete, complex language that employs signs made by moving the\n",
        "hands combined with facial expressions and postures of the body. It is the primary language of many\n",
        "North Americans who are deaf and is one of several communication options used by people who are deaf or\n",
        "hard-of-hearing.\n",
        "\n",
        "The hand gestures representing English alphabet are shown below. This assignment focuses on classifying a subset\n",
        "of these hand gesture images using convolutional neural networks. Specifically, given an image of a hand\n",
        "showing one of the letters A-I, we want to detect which letter is being represented.\n",
        "\n",
        "![alt text](https://www.disabled-world.com/pics/1/asl-alphabet.jpg)\n",
        "\n",
        "\n",
        "### Generating Data\n",
        "We will produce the images required to assess our models by ourselves. You are required to collect, clean and submit\n",
        "three images each of Americal Sign Language gestures for letters A - I (total of 27 images)\n",
        "Steps involved in data collection\n",
        "\n",
        "1. Familiarize yourself with American Sign Language gestures for letters from A - I (9 letters).\n",
        "2. Take three pictures at slightly different orientation for each letter gesture using your\n",
        "mobile phone.\n",
        " - Ensure adequate lighting while you are capturing the images.\n",
        " - Use a white wall as your background.\n",
        " - Use your right hand to create gestures (for consistency).\n",
        " - Keep your right hand fairly apart from your body and any other obstructions.\n",
        " - Avoid having shadows on parts of your hand.\n",
        "3. Transfer the images to your laptop for cleaning.\n",
        "\n",
        "### Cleaning Data\n",
        "To simplify the machine learning the task, we will standardize the training images. We will make sure that\n",
        "all our images are of the same size (224 x 224 pixels RGB), and have the hand in the center of the cropped\n",
        "regions.\n",
        "\n",
        "You may use the following applications to crop and resize your images:\n",
        "\n",
        "**Mac**\n",
        "- Use Preview:\n",
        "– Holding down CMD + Shift will keep a square aspect ratio while selecting the hand area.\n",
        "– Resize to 224x224 pixels.\n",
        "\n",
        "**Windows 10**\n",
        "- Use Photos app to edit and crop the image and keep the aspect ratio a square.\n",
        "- Use Paint to resize the image to the final image size of 224x224 pixels.\n",
        "\n",
        "**Linux**\n",
        "- You can use GIMP, imagemagick, or other tools of your choosing.\n",
        "You may also use online tools such as http://picresize.com\n",
        "All the above steps are illustrative only. You need not follow these steps but following these will ensure that\n",
        "you produce a good quality dataset. You will be judged based on the quality of the images alone.\n",
        "Please do not edit your photos in any other way. You should not need to change the aspect ratio of your\n",
        "image. You also should not digitally remove the background or shadows—instead, take photos with a white\n",
        "background and minimal shadows.\n",
        "\n",
        "### Accepted Images\n",
        "Images will be accepted and graded based on the criteria below\n",
        "1. The final image should be size 224x224 pixels (RGB).\n",
        "2. The file format should be a .jpg file.\n",
        "3. The hand should be approximately centered on the frame.\n",
        "4. The hand should not be obscured or cut off.\n",
        "5. The photos follows the ASL gestures posted earlier.\n",
        "6. The photos were not edited in any other way (e.g. no electronic removal of shadows or background).\n",
        "\n",
        "### Submission\n",
        "Submit a zip file containing your images. There should be a total of 27 images (3 for each category)\n",
        "1. Individual image file names should follow the convention of student-number_Alphabet_file-number.jpg\n",
        "(e.g. 100343434_A_1.jpg)\n",
        "2. Zip all the images together and name it with the following convention: last-name_student-number.zip\n",
        "(e.g. last-name_100343434.zip).\n",
        "3. Submit the zipped folder.\n",
        "\n",
        "![alt text](https://github.com/UTNeural/APS360/blob/master/Gesture%20Images.PNG?raw=true)"
      ]
    },
    {
      "cell_type": "markdown",
      "metadata": {
        "id": "bJxMgWGNqID2"
      },
      "source": [
        "# Part B. Building a CNN [45pt]\n",
        "\n",
        "For this assignment, we are not going to give you any starter code. You will be writing a convolutional neural network\n",
        "from scratch. You are welcome to modify and combine code provided previously in the course (assignments, preparation code, lectures, etc.). You can also write your own code.\n",
        "\n",
        "You may use the PyTorch documentation freely. You might also find online tutorials helpful. However, all code that you submit must be be your own. You cannot take a completed assignment and claim it as your own.\n",
        "\n",
        "Make sure that your code is vectorized, and does not contain obvious inefficiencies (for example, unecessary\n",
        "for loops, or unnecessary calls to unsqueeze()). Ensure enough comments are included in the code so that\n",
        "your TA can understand what you are doing. It is your responsibility to show that you understand what you\n",
        "write.\n",
        "\n",
        "**This is much more challenging and time-consuming than the previous assignments.** Make sure that you give yourself plenty of time by starting early."
      ]
    },
    {
      "cell_type": "markdown",
      "metadata": {
        "id": "MiDuQaAh56sT"
      },
      "source": [
        "## Part 1. Data Loading and Splitting [3pt EXPLORATORY]\n",
        "\n",
        "Download the anonymized data provided on Quercus (`A2_Hand_Gesture_Dataset_Revised.zip`). Split the data into training, validation, and test sets. Do not use `A2_Hand_Gesture_Unlabeled_Data.zip` which will be used in later sections.\n",
        "\n",
        "Note: Data splitting is not as trivial in this assignment. We want our test set to closely resemble the setting in which\n",
        "our model will be used. In particular, our test set should contain hands that are never seen in training!\n",
        "\n",
        "Explain how you split the data, either by describing what you did, or by showing the code that you used.\n",
        "Justify your choice of splitting strategy. How many training, validation, and test images do you have?\n",
        "\n",
        "For loading the data, you can use plt.imread, or any other method that you choose. You may find\n",
        "torchvision.datasets.ImageFolder helpful. (see https://pytorch.org/vision/main/generated/torchvision.datasets.ImageFolder.html)\n",
        ")"
      ]
    },
    {
      "cell_type": "code",
      "execution_count": 2,
      "metadata": {
        "id": "WBrH5kBqRLa6"
      },
      "outputs": [],
      "source": [
        "# TO BE COMPLETED\n",
        "from torchvision import datasets, transforms\n",
        "from torch.utils.data import DataLoader, random_split"
      ]
    },
    {
      "cell_type": "code",
      "source": [
        "_ = !unzip \"/content/A2_Hand_Gesture_Dataset_revised.zip\" -d \"/content/A2_Hand_Gesture_Dataset_revised/\""
      ],
      "metadata": {
        "id": "LE6qaoVqdDSU"
      },
      "execution_count": 1,
      "outputs": []
    },
    {
      "cell_type": "code",
      "source": [
        "def get_data_loader(data_dir, batch_size):\n",
        "    # Define transformations\n",
        "    transform = transform = transforms.Compose([transforms.Resize((224,224)), transforms.ToTensor()])\n",
        "\n",
        "    # Load the full dataset\n",
        "    dataset = datasets.ImageFolder(data_dir, transform=transform)\n",
        "    classes = dataset.classes  # Get class names\n",
        "\n",
        "    # Split the dataset\n",
        "    total_size = len(dataset)\n",
        "    test_size = int(0.8 * total_size)\n",
        "    valid_size = int(0.1 * len(dataset))\n",
        "    train_size = total_size - test_size - valid_size\n",
        "    train_dataset, val_dataset, test_dataset = random_split(dataset, [train_size, valid_size, test_size])\n",
        "\n",
        "    # Create DataLoaders\n",
        "    train_loader = DataLoader(train_dataset, batch_size=batch_size, shuffle=True, num_workers=2)\n",
        "    val_loader = DataLoader(val_dataset, batch_size=batch_size, shuffle=False, num_workers=2)\n",
        "    test_loader = DataLoader(test_dataset, batch_size=batch_size, shuffle=False, num_workers=2)\n",
        "\n",
        "    return train_loader, val_loader, test_loader, classes"
      ],
      "metadata": {
        "id": "V-8BqVeL5XSy"
      },
      "execution_count": 3,
      "outputs": []
    },
    {
      "cell_type": "code",
      "source": [
        "get_data_loader(data_dir = \"/content/A2_Hand_Gesture_Dataset_revised/Lab_3b_Gesture_Dataset Revised\", batch_size = 32)"
      ],
      "metadata": {
        "id": "arP-fgJh5v77",
        "outputId": "3a07d251-3cd9-45c5-a796-2bd47fb29f3a",
        "colab": {
          "base_uri": "https://localhost:8080/"
        }
      },
      "execution_count": null,
      "outputs": [
        {
          "output_type": "execute_result",
          "data": {
            "text/plain": [
              "(<torch.utils.data.dataloader.DataLoader at 0x79e15731d410>,\n",
              " <torch.utils.data.dataloader.DataLoader at 0x79e158e08f90>,\n",
              " <torch.utils.data.dataloader.DataLoader at 0x79e15731d550>,\n",
              " ['A', 'B', 'C', 'D', 'E', 'F', 'G', 'H', 'I'])"
            ]
          },
          "metadata": {},
          "execution_count": 22
        }
      ]
    },
    {
      "cell_type": "code",
      "source": [
        "# root = \"/content/A2_Hand_Gesture_Dataset_revised\"\n",
        "# transform = transforms.Compose([transforms.Resize((224,224)), transforms.ToTensor()])\n",
        "# dataset = datasets.ImageFolder(root, transform)\n",
        "\n",
        "# train_size = int(0.8 * len(dataset))\n",
        "# val_size = int(0.1 * len(dataset))\n",
        "# test_size = len(dataset) - train_size - val_size\n",
        "# train_set, val_set, test_set = random_split(dataset, [train_size, val_size, test_size])\n",
        "\n",
        "# batch_size = 32\n",
        "\n",
        "# train_loader = DataLoader(train_set, batch_size=batch_size, shuffle=True)\n",
        "# val_loader = DataLoader(val_set, batch_size=batch_size, shuffle=False)\n",
        "# test_loader = DataLoader(test_set, batch_size=batch_size, shuffle=False)\n",
        "\n",
        "# print(len(train_loader), len(val_loader), len(test_loader))"
      ],
      "metadata": {
        "id": "r4f75wPYf27D"
      },
      "execution_count": null,
      "outputs": []
    },
    {
      "cell_type": "code",
      "execution_count": null,
      "metadata": {
        "id": "osN3NBhdNtOC"
      },
      "outputs": [],
      "source": [
        "'''\n",
        "PROVIDE YOUR ANSWER BELOW\n",
        "\n",
        "80% Training Data:The majority of the dataset is allocated to training to maximize the model's ability to learn the underlying patterns.\n",
        "10% Validation Data: A smaller portion is used to validate the model's performance during training, tune hyperparameters, and detect overfitting.\n",
        "10% Test Data: The portion left is held to evaluate the model's true performance on unseen data after training.\n",
        "\n",
        "This splitting strategy is an useful approach in deep learning to ensure the model generalizes well without overfitting or underfitting. After splitting, the training loader has\n",
        "122 data points, the validation loader has 11, and the test loader has 11, as well.\n",
        "\n",
        "'''"
      ]
    },
    {
      "cell_type": "markdown",
      "metadata": {
        "id": "5VWX4DGY5gQE"
      },
      "source": [
        "## Part 2. Model Building and Sanity Checking [4pt]\n",
        "\n",
        "### Part (i) Convolutional Network [2pt MODEL]\n",
        "\n",
        "Build a convolutional neural network model that takes the (224x224 RGB) image as input, and predicts the gesture\n",
        "letter. Your model should be a subclass of nn.Module. Explain your choice of neural network architecture: how\n",
        "many layers did you choose? What types of layers did you use? Were they fully-connected or convolutional?\n",
        "What about other decisions like pooling layers, activation functions, number of channels / hidden units?"
      ]
    },
    {
      "cell_type": "code",
      "execution_count": 4,
      "metadata": {
        "id": "2dtx1z5951fS"
      },
      "outputs": [],
      "source": [
        "# TO BE COMPLETED\n",
        "import torch\n",
        "import torch.nn as nn\n",
        "import torch.nn.functional as F"
      ]
    },
    {
      "cell_type": "code",
      "source": [
        "# class CNN(nn.Module):\n",
        "#   def __init__(self, input_size, hidden_size, output_size):\n",
        "#     super(CNN, self).__init__()\n",
        "#     self.conv1 = nn.Conv2d(in_channels=3, out_channels=32, kernel_size=3, stride=1, padding=1)\n",
        "#     self.pool = nn.MaxPool2d(kernel_size=2, stride=2)\n",
        "#     self.conv2 = nn.Conv2d(in_channels=32, out_channels=64, kernel_size=3, stride=1, padding=1)\n",
        "#     self.relu = nn.ReLU()\n",
        "#     self.fc1 = nn.Linear(input_size, hidden_size)\n",
        "#     self.fc2 = nn.Linear(hidden_size, output_size)\n",
        "\n",
        "#   def forward(self, x):\n",
        "#     x = self.pool(self.relu(self.conv1(x)))\n",
        "#     x = self.pool(self.relu(self.conv2(x)))\n",
        "#     x = x.view(x.size(0), -1)\n",
        "#         # Flattens the tensor into a 2D shape suitable for fully connected layers.\n",
        "#         # x.size(0) refers to the batch size, and -1 computes the product of the remaining dimensions.\n",
        "#         # If the tensor shape before this operation is (batch_size, channels, height, width), it becomes (batch_size, channels × height × width).\n",
        "#     x = self.relu(self.fc1(x))\n",
        "#     x = self.fc2(x)\n",
        "#     return x"
      ],
      "metadata": {
        "id": "0mA-1z961zlV"
      },
      "execution_count": null,
      "outputs": []
    },
    {
      "cell_type": "code",
      "source": [
        "# TO BE COMPLETED\n",
        "class CNN(nn.Module):\n",
        "  def __init__(self):\n",
        "    super(CNN, self).__init__()\n",
        "    self.name = \"CNN\"  # Use a different name to avoid conflicts\n",
        "    self.conv1 = nn.Conv2d(in_channels=3, out_channels=32, kernel_size=3, stride=1, padding=1)\n",
        "    self.pool = nn.MaxPool2d(kernel_size=2, stride=2)\n",
        "    self.conv2 = nn.Conv2d(in_channels=32, out_channels=64, kernel_size=3, stride=1, padding=1)\n",
        "    self.relu = nn.ReLU()\n",
        "    self.fc1 = nn.Linear(64 * 56 * 56, 32)\n",
        "    self.fc2 = nn.Linear(32, 9)\n",
        "\n",
        "  def forward(self, x):\n",
        "    x = self.pool(self.relu(self.conv1(x)))\n",
        "    x = self.pool(self.relu(self.conv2(x)))\n",
        "    x = x.view(x.size(0), -1)\n",
        "    x = self.relu(self.fc1(x))\n",
        "    x = self.fc2(x)\n",
        "    return x"
      ],
      "metadata": {
        "id": "5aDgxpyz1XQn"
      },
      "execution_count": null,
      "outputs": []
    },
    {
      "cell_type": "code",
      "source": [
        "'''\n",
        "PROVIDE YOUR ANSWER BELOW\n",
        "The architecture has 6 layers in total, which includes 2 convolutional layers (conv1 and conv2); 2 fully connected (linear) layers (fc1 and fc2) and\n",
        "2 pooling layers (pool) that is used after both convolutional layers.\n",
        "ReLU was chosen for its efficiency and ability to avoid the vanishing gradient problem (It replaces negative values with zeros) common with older activation functions (e.g. sigmoid, tanh).\n",
        "\n",
        "For conv1, it has 3 channels. This layer increases the number of feature maps from 3 to 32, enabling it to learn 32 distinct patterns.\n",
        "For conv2, it has 32 channels. This layer increases the number of feature maps from 32 to 64, enabling it to learn 64 distinct patterns.\n",
        "For FC1, it connected layer reduces the high-dimensional input from the convolutional layers to 32 hidden units.\n",
        "* The choice of 32 hidden units in fc1 provides a balance between representational power and avoiding overfitting.\n",
        "For FC2, it connected layer reduces the 32 hidden units to 9 output as there are 9 classes.\n",
        "'''"
      ],
      "metadata": {
        "id": "vSbVXkxM02H-"
      },
      "execution_count": null,
      "outputs": []
    },
    {
      "cell_type": "markdown",
      "source": [
        "Explain your choice of neural network architecture: how many layers did you choose? What types of layers did you use? Were they fully-connected or convolutional? What about other decisions like pooling layers, activation functions, number of channels / hidden units?"
      ],
      "metadata": {
        "id": "A_ALDAl80xx_"
      }
    },
    {
      "cell_type": "markdown",
      "metadata": {
        "id": "XeGvelvb515e"
      },
      "source": [
        "### Part (ii) Training Code [1pt MODEL]\n",
        "\n",
        "Write code that trains your neural network given some training data. Your training code should make it easy\n",
        "to tweak the usual hyperparameters, like batch size, learning rate, and the model object itself. Make sure\n",
        "that you are checkpointing your models from time to time (the frequency is up to you). Explain your choice\n",
        "of loss function and optimizer."
      ]
    },
    {
      "cell_type": "code",
      "source": [
        "import numpy as np\n",
        "import torch.optim as optim\n",
        "import time"
      ],
      "metadata": {
        "id": "y3wx2VWl5CVy"
      },
      "execution_count": 5,
      "outputs": []
    },
    {
      "cell_type": "code",
      "source": [
        "def get_model_name(name, batch_size, learning_rate, epoch):\n",
        "    path = \"model_{0}_bs{1}_lr{2}_epoch{3}\".format(name, batch_size, learning_rate, epoch)\n",
        "    return path"
      ],
      "metadata": {
        "id": "tfmp3rO-7ETB"
      },
      "execution_count": 6,
      "outputs": []
    },
    {
      "cell_type": "code",
      "source": [
        "def evaluate(net, loader, criterion):\n",
        "    total_loss = 0.0\n",
        "    total_err = 0.0\n",
        "    total_samples = 0\n",
        "    with torch.no_grad(): # Prevents PyTorch from computing gradients during evaluation.\n",
        "        for inputs, labels in loader:\n",
        "            outputs = net(inputs)\n",
        "\n",
        "            # Compute loss\n",
        "            loss = criterion(outputs, labels)\n",
        "\n",
        "            # Compute classification error\n",
        "            _, predicted = torch.max(outputs, 1)\n",
        "            total_err += (predicted != labels).sum().item()\n",
        "            total_loss += loss.item() # Converts the scalar loss tensor into a Python float.\n",
        "            total_samples += len(labels)\n",
        "\n",
        "    err = total_err / total_samples\n",
        "    avg_loss = total_loss / len(loader)\n",
        "\n",
        "    return err, avg_loss"
      ],
      "metadata": {
        "id": "xu0YoO-87MI2"
      },
      "execution_count": 7,
      "outputs": []
    },
    {
      "cell_type": "code",
      "source": [
        "from google.colab import drive\n",
        "drive.mount('/content/gdrive')"
      ],
      "metadata": {
        "id": "bRhFI9RoDX-E",
        "outputId": "fe5f3080-fd6c-4476-aac7-14e177e8f817",
        "colab": {
          "base_uri": "https://localhost:8080/"
        }
      },
      "execution_count": 8,
      "outputs": [
        {
          "output_type": "stream",
          "name": "stdout",
          "text": [
            "Mounted at /content/gdrive\n"
          ]
        }
      ]
    },
    {
      "cell_type": "code",
      "execution_count": null,
      "metadata": {
        "id": "Zs8eYG9Oa7Gs"
      },
      "outputs": [],
      "source": [
        "# TO BE COMPLETED\n",
        "def train_net(net, batch_size=32, learning_rate=0.01, num_epochs=5):\n",
        "    ########################################################################\n",
        "    # Train a classifier on an 8-class classification problem\n",
        "    target_classes = [\"A\", \"B\", \"C\", \"D\", \"E\", \"F\", \"G\", \"H\", \"I\"]\n",
        "    ########################################################################\n",
        "    # Fixed PyTorch random seed for reproducible results\n",
        "    torch.manual_seed(1000)\n",
        "    ########################################################################\n",
        "    # Obtain the PyTorch data loader objects to load batches of the datasets\n",
        "    train_loader, val_loader, test_loader, classes = get_data_loader(\n",
        "            data_dir='/content/A2_Hand_Gesture_Dataset_revised/Lab_3b_Gesture_Dataset Revised',\n",
        "            batch_size=batch_size)\n",
        "\n",
        "    # Make sure the classes are as expected\n",
        "    assert len(classes) == 9, \"The dataset should have exactly 9 classes.\"\n",
        "    ########################################################################\n",
        "    # Define the Loss function and optimizer\n",
        "    # Use CrossEntropyLoss for multi-class classification\n",
        "    criterion = nn.CrossEntropyLoss()  # Change to CrossEntropyLoss for multi-class\n",
        "    optimizer = optim.Adam(net.parameters(), lr=0.001)\n",
        "    ########################################################################\n",
        "    # Set up some numpy arrays to store the training/test loss/accuracy\n",
        "    train_err = np.zeros(num_epochs)\n",
        "    train_loss = np.zeros(num_epochs)\n",
        "    val_err = np.zeros(num_epochs)\n",
        "    val_loss = np.zeros(num_epochs)\n",
        "    ########################################################################\n",
        "    # Train the network\n",
        "    # Loop over the data iterator and sample a new batch of training data\n",
        "    # Get the output from the network, and optimize our loss function.\n",
        "    # Each epoch represents one full pass over the training dataset\n",
        "    start_time = time.time()\n",
        "    for epoch in range(num_epochs):  # Loop over the dataset multiple times\n",
        "        total_train_loss = 0.0\n",
        "        total_train_err = 0.0\n",
        "        total_epoch = 0\n",
        "        for i, data in enumerate(train_loader, 0):\n",
        "            inputs, labels = data\n",
        "            optimizer.zero_grad() # This ensures that gradients from the previous batch are not accumulated.\n",
        "\n",
        "            # Forward pass, backward pass, and optimize\n",
        "            outputs = net(inputs)\n",
        "            loss = criterion(outputs, labels)  # No need to normalize labels here for CrossEntropyLoss\n",
        "            loss.backward()\n",
        "            optimizer.step()\n",
        "            # Calculate the statistics\n",
        "            _, predicted = torch.max(outputs, 1)  # Get the class with the highest probability\n",
        "            total_train_err += (predicted != labels).sum().item()  # Count errors\n",
        "            total_train_loss += loss.item()\n",
        "            total_epoch += len(labels)\n",
        "\n",
        "        # Calculate error and loss for the training and validation set\n",
        "        train_err[epoch] = float(total_train_err) / total_epoch\n",
        "        train_loss[epoch] = float(total_train_loss) / (i + 1)\n",
        "        val_err[epoch], val_loss[epoch] = evaluate(net, val_loader, criterion)\n",
        "\n",
        "        # Print stats for the current epoch\n",
        "        print(f\"Epoch {epoch + 1}: Train err: {train_err[epoch]:.4f}, Train loss: {train_loss[epoch]:.4f} | \"f\"Validation err: {val_err[epoch]:.4f}, Validation loss: {val_loss[epoch]:.4f}\")\n",
        "\n",
        "        # Save the current model (checkpoint) to a file\n",
        "        model_path = get_model_name(net.name, batch_size, learning_rate, epoch)\n",
        "        torch.save(net.state_dict(), model_path)\n",
        "\n",
        "    print('Finished Training')\n",
        "    end_time = time.time()\n",
        "    elapsed_time = end_time - start_time\n",
        "    print(f\"Total time elapsed: {elapsed_time:.2f} seconds\")\n",
        "\n",
        "    # Write the train/test loss/error into CSV files for plotting later\n",
        "    epochs = np.arange(1, num_epochs + 1)\n",
        "    np.savetxt(f\"{model_path}_train_err.csv\", train_err)\n",
        "    np.savetxt(f\"{model_path}_train_loss.csv\", train_loss)\n",
        "    np.savetxt(f\"{model_path}_val_err.csv\", val_err)\n",
        "    np.savetxt(f\"{model_path}_val_loss.csv\", val_loss)"
      ]
    },
    {
      "cell_type": "code",
      "source": [
        "# Train the model with default set: batch_size=32, learning_rate=0.01, num_epochs=5\n",
        "net = CNN()\n",
        "train_net(net)"
      ],
      "metadata": {
        "id": "_WGryURB9olH",
        "outputId": "5d355cb7-f740-4cff-a59c-019bf7c33819",
        "colab": {
          "base_uri": "https://localhost:8080/"
        }
      },
      "execution_count": null,
      "outputs": [
        {
          "output_type": "stream",
          "name": "stdout",
          "text": [
            "Epoch 1: Train err: 0.8975, Train loss: 2.8223 | Validation err: 0.8930, Validation loss: 2.2160\n",
            "Epoch 2: Train err: 0.8770, Train loss: 2.2024 | Validation err: 0.8560, Validation loss: 2.2011\n",
            "Epoch 3: Train err: 0.8607, Train loss: 2.1888 | Validation err: 0.8230, Validation loss: 2.1662\n",
            "Epoch 4: Train err: 0.7336, Train loss: 2.0718 | Validation err: 0.6872, Validation loss: 1.9379\n",
            "Epoch 5: Train err: 0.6189, Train loss: 1.7525 | Validation err: 0.6420, Validation loss: 1.7429\n",
            "Finished Training\n",
            "Total time elapsed: 221.96 seconds\n"
          ]
        }
      ]
    },
    {
      "cell_type": "code",
      "execution_count": null,
      "metadata": {
        "id": "kQNirDVYa7Gt",
        "colab": {
          "base_uri": "https://localhost:8080/",
          "height": 53
        },
        "outputId": "c8b93d10-2130-4e46-e1d8-f24d38c23fd2"
      },
      "outputs": [
        {
          "output_type": "execute_result",
          "data": {
            "text/plain": [
              "'\\nPROVIDE YOUR ANSWER BELOW\\n\\nThe loss function I choose is \"Cross Entropy Loss\", as it is used for classification (multi-class).\\nThe optimizer I use is Adam as manually tuning the lr is hard, and Adam adjusts the learning rate for each parameter based on the magnitude of its gradients.\\n\\n'"
            ],
            "application/vnd.google.colaboratory.intrinsic+json": {
              "type": "string"
            }
          },
          "metadata": {},
          "execution_count": 56
        }
      ],
      "source": [
        "'''\n",
        "PROVIDE YOUR ANSWER BELOW\n",
        "\n",
        "The loss function I choose is \"Cross Entropy Loss\", as it is used for classification (multi-class).\n",
        "The optimizer I use is Adam as manually tuning the lr is hard, and Adam adjusts the learning rate for each parameter based on the magnitude of its gradients.\n",
        "\n",
        "'''"
      ]
    },
    {
      "cell_type": "markdown",
      "metadata": {
        "id": "bk1RNgAj54rZ"
      },
      "source": [
        "### Part (iii) “Overfit” to a Small Dataset - [1pt MODEL]\n",
        "\n",
        "One way to sanity check our neural network model and training code is to check whether the model is capable\n",
        "of “overfitting” or “memorizing” a small dataset. A properly constructed CNN with correct training code\n",
        "should be able to memorize the answers to a small number of images quickly.\n",
        "\n",
        "Construct a small dataset (e.g. just the images that you have collected). Then show that your model and\n",
        "training code is capable of memorizing the labels of this small data set.\n",
        "\n",
        "With a large batch size (e.g. the entire small dataset) and learning rate that is not too high, you should be\n",
        "able to obtain a 100% training accuracy on that small dataset relatively quickly (within 200 iterations)."
      ]
    },
    {
      "cell_type": "code",
      "execution_count": null,
      "metadata": {
        "id": "L7rSLxyWbCN3"
      },
      "outputs": [],
      "source": [
        "# TO BE COMPLETED\n",
        "_ = !unzip \"/content/Liu_1006702639.zip\" -d \"/content/Liu_1006702639/\""
      ]
    },
    {
      "cell_type": "code",
      "source": [
        "# TO BE COMPLETED\n",
        "def train_net_small(net, batch_size=27, learning_rate=0.01, num_epochs=30):\n",
        "    ########################################################################\n",
        "    # Train a classifier on an 9-class classification problem\n",
        "    target_classes = [\"A\", \"B\", \"C\", \"D\", \"E\", \"F\", \"G\", \"H\", \"I\"]\n",
        "    ########################################################################\n",
        "    # Fixed PyTorch random seed for reproducible results\n",
        "    torch.manual_seed(1000)\n",
        "    ########################################################################\n",
        "    # Obtain the PyTorch data loader objects to load batches of the datasets\n",
        "    train_loader, val_loader, test_loader, classes = get_data_loader(\n",
        "            data_dir='/content/Liu_1006702639/Liu_1006702639',\n",
        "            batch_size=batch_size)\n",
        "\n",
        "    # Make sure the classes are as expected\n",
        "    assert len(classes) == 9, \"The dataset should have exactly 9 classes.\"\n",
        "    ########################################################################\n",
        "    # Define the Loss function and optimizer\n",
        "    # Use CrossEntropyLoss for multi-class classification\n",
        "    criterion = nn.CrossEntropyLoss()  # Change to CrossEntropyLoss for multi-class\n",
        "    optimizer = optim.Adam(net.parameters(), lr=0.001)\n",
        "    ########################################################################\n",
        "    # Set up some numpy arrays to store the training/test loss/accuracy\n",
        "    train_err = np.zeros(num_epochs)\n",
        "    train_loss = np.zeros(num_epochs)\n",
        "    val_err = np.zeros(num_epochs)\n",
        "    val_loss = np.zeros(num_epochs)\n",
        "    ########################################################################\n",
        "    # Train the network\n",
        "    # Loop over the data iterator and sample a new batch of training data\n",
        "    # Get the output from the network, and optimize our loss function.\n",
        "    # Each epoch represents one full pass over the training dataset\n",
        "    start_time = time.time()\n",
        "    for epoch in range(num_epochs):  # Loop over the dataset multiple times\n",
        "        total_train_loss = 0.0\n",
        "        total_train_err = 0.0\n",
        "        total_epoch = 0\n",
        "        for i, data in enumerate(train_loader, 0):\n",
        "            inputs, labels = data\n",
        "            optimizer.zero_grad() # This ensures that gradients from the previous batch are not accumulated.\n",
        "\n",
        "            # Forward pass, backward pass, and optimize\n",
        "            outputs = net(inputs)\n",
        "            loss = criterion(outputs, labels)  # No need to normalize labels here for CrossEntropyLoss\n",
        "            loss.backward()\n",
        "            optimizer.step()\n",
        "            # Calculate the statistics\n",
        "            _, predicted = torch.max(outputs, 1)  # Get the class with the highest probability\n",
        "            total_train_err += (predicted != labels).sum().item()  # Count errors\n",
        "            total_train_loss += loss.item()\n",
        "            total_epoch += len(labels)\n",
        "\n",
        "        # Calculate error and loss for the training and validation set\n",
        "        train_err[epoch] = float(total_train_err) / total_epoch\n",
        "        train_loss[epoch] = float(total_train_loss) / (i + 1)\n",
        "        val_err[epoch], val_loss[epoch] = evaluate(net, val_loader, criterion)\n",
        "\n",
        "        # Print stats for the current epoch\n",
        "        print(f\"Epoch {epoch + 1}: Train err: {train_err[epoch]:.4f}, Train loss: {train_loss[epoch]:.4f} | \"f\"Validation err: {val_err[epoch]:.4f}, Validation loss: {val_loss[epoch]:.4f}\")\n",
        "\n",
        "        # Save the current model (checkpoint) to a file\n",
        "        model_path = get_model_name(net.name, batch_size, learning_rate, epoch)\n",
        "        torch.save(net.state_dict(), model_path)\n",
        "\n",
        "    print('Finished Training')\n",
        "    end_time = time.time()\n",
        "    elapsed_time = end_time - start_time\n",
        "    print(f\"Total time elapsed: {elapsed_time:.2f} seconds\")\n",
        "\n",
        "    # Write the train/test loss/error into CSV files for plotting later\n",
        "    epochs = np.arange(1, num_epochs + 1)\n",
        "    np.savetxt(f\"{model_path}_train_err.csv\", train_err)\n",
        "    np.savetxt(f\"{model_path}_train_loss.csv\", train_loss)\n",
        "    np.savetxt(f\"{model_path}_val_err.csv\", val_err)\n",
        "    np.savetxt(f\"{model_path}_val_loss.csv\", val_loss)"
      ],
      "metadata": {
        "id": "_47fNebZInZV"
      },
      "execution_count": null,
      "outputs": []
    },
    {
      "cell_type": "code",
      "source": [
        "# Train the model on small dataset with set: batch_size=27, learning_rate=0.01, num_epochs=30\n",
        "net = CNN()\n",
        "train_net_small(net, batch_size=27, learning_rate=0.01, num_epochs=30)"
      ],
      "metadata": {
        "id": "Vjs12z5iJPXo",
        "outputId": "8c3685c8-8cd6-4151-89bc-fb89a6d49dce",
        "colab": {
          "base_uri": "https://localhost:8080/"
        }
      },
      "execution_count": null,
      "outputs": [
        {
          "output_type": "stream",
          "name": "stdout",
          "text": [
            "Epoch 1: Train err: 0.5000, Train loss: 2.1182 | Validation err: 1.0000, Validation loss: 10.0173\n",
            "Epoch 2: Train err: 0.5000, Train loss: 2.8170 | Validation err: 1.0000, Validation loss: 8.9406\n",
            "Epoch 3: Train err: 0.5000, Train loss: 1.6696 | Validation err: 1.0000, Validation loss: 6.7973\n",
            "Epoch 4: Train err: 0.5000, Train loss: 1.2547 | Validation err: 1.0000, Validation loss: 6.0120\n",
            "Epoch 5: Train err: 0.5000, Train loss: 1.2528 | Validation err: 1.0000, Validation loss: 5.6010\n",
            "Epoch 6: Train err: 0.5000, Train loss: 1.2318 | Validation err: 1.0000, Validation loss: 5.5864\n",
            "Epoch 7: Train err: 0.5000, Train loss: 1.1100 | Validation err: 1.0000, Validation loss: 6.3777\n",
            "Epoch 8: Train err: 0.5000, Train loss: 1.0473 | Validation err: 1.0000, Validation loss: 6.6227\n",
            "Epoch 9: Train err: 0.5000, Train loss: 0.9360 | Validation err: 1.0000, Validation loss: 7.2056\n",
            "Epoch 10: Train err: 0.5000, Train loss: 0.8645 | Validation err: 1.0000, Validation loss: 7.1198\n",
            "Epoch 11: Train err: 0.5000, Train loss: 0.7009 | Validation err: 1.0000, Validation loss: 7.1417\n",
            "Epoch 12: Train err: 0.0000, Train loss: 0.5975 | Validation err: 1.0000, Validation loss: 7.8063\n",
            "Epoch 13: Train err: 0.0000, Train loss: 0.5036 | Validation err: 1.0000, Validation loss: 8.6485\n",
            "Epoch 14: Train err: 0.0000, Train loss: 0.3549 | Validation err: 1.0000, Validation loss: 9.6783\n",
            "Epoch 15: Train err: 0.0000, Train loss: 0.2408 | Validation err: 1.0000, Validation loss: 11.2024\n",
            "Epoch 16: Train err: 0.0000, Train loss: 0.1638 | Validation err: 1.0000, Validation loss: 12.1013\n",
            "Epoch 17: Train err: 0.0000, Train loss: 0.0941 | Validation err: 1.0000, Validation loss: 15.2965\n",
            "Epoch 18: Train err: 0.0000, Train loss: 0.0715 | Validation err: 1.0000, Validation loss: 15.9082\n",
            "Epoch 19: Train err: 0.0000, Train loss: 0.0324 | Validation err: 1.0000, Validation loss: 17.4315\n",
            "Epoch 20: Train err: 0.0000, Train loss: 0.0264 | Validation err: 1.0000, Validation loss: 20.0548\n",
            "Epoch 21: Train err: 0.0000, Train loss: 0.0082 | Validation err: 1.0000, Validation loss: 22.9553\n",
            "Epoch 22: Train err: 0.0000, Train loss: 0.0043 | Validation err: 1.0000, Validation loss: 25.7237\n",
            "Epoch 23: Train err: 0.0000, Train loss: 0.0044 | Validation err: 1.0000, Validation loss: 28.1089\n",
            "Epoch 24: Train err: 0.0000, Train loss: 0.0037 | Validation err: 1.0000, Validation loss: 30.0757\n",
            "Epoch 25: Train err: 0.0000, Train loss: 0.0021 | Validation err: 1.0000, Validation loss: 31.7391\n",
            "Epoch 26: Train err: 0.0000, Train loss: 0.0010 | Validation err: 1.0000, Validation loss: 33.2100\n",
            "Epoch 27: Train err: 0.0000, Train loss: 0.0004 | Validation err: 1.0000, Validation loss: 34.5451\n",
            "Epoch 28: Train err: 0.0000, Train loss: 0.0002 | Validation err: 1.0000, Validation loss: 35.7762\n",
            "Epoch 29: Train err: 0.0000, Train loss: 0.0001 | Validation err: 1.0000, Validation loss: 36.9214\n",
            "Epoch 30: Train err: 0.0000, Train loss: 0.0001 | Validation err: 1.0000, Validation loss: 37.9922\n",
            "Finished Training\n",
            "Total time elapsed: 33.03 seconds\n"
          ]
        }
      ]
    },
    {
      "cell_type": "markdown",
      "source": [
        "The model start to reach 100% accuarcy since the 12th iteration. However, it's just overfitting or memorizing the data as the validation accuracy is extremely poor."
      ],
      "metadata": {
        "id": "9a7y7oFbKzoV"
      }
    },
    {
      "cell_type": "markdown",
      "metadata": {
        "id": "nvDLw-Vz6eVS"
      },
      "source": [
        "## Part 3. Hyperparameter Search [7pt]\n",
        "\n",
        "### Part (i) - [2pt EXPLORATORY]\n",
        "\n",
        "List 3 hyperparameters that you think are most worth tuning. Choose at least one hyperparameter related to\n",
        "the model architecture."
      ]
    },
    {
      "cell_type": "code",
      "execution_count": null,
      "metadata": {
        "id": "Q04SaRRjbFCR"
      },
      "outputs": [],
      "source": [
        "'''\n",
        "PROVIDE YOUR ANSWER BELOW\n",
        "\n",
        "Learning Rate: Impacts convergence speed and stability.\n",
        "Number of Filters (architecture): Controls the feature extraction power of the model.\n",
        "Batch Size: Balances computational efficiency and generalization.\n",
        "\n",
        "'''"
      ]
    },
    {
      "cell_type": "markdown",
      "metadata": {
        "id": "zeD6EzPB6kSW"
      },
      "source": [
        "### Part (ii) - [1pt MODEL]\n",
        "\n",
        "Tune the hyperparameters you listed in Part (i), trying as many values as you need to until you feel satisfied\n",
        "that you are getting a good model. Plot the training curve of at least 4 different hyperparameter settings."
      ]
    },
    {
      "cell_type": "code",
      "source": [
        "import matplotlib.pyplot as plt\n",
        "def plot_training_curve(path):\n",
        "    train_err = np.loadtxt(f\"{path}_train_err.csv\")\n",
        "    val_err = np.loadtxt(f\"{path}_val_err.csv\")\n",
        "    train_loss = np.loadtxt(f\"{path}_train_loss.csv\")\n",
        "    val_loss = np.loadtxt(f\"{path}_val_loss.csv\")\n",
        "\n",
        "    plt.figure()\n",
        "    plt.title(\"Train vs Validation Error\")\n",
        "    plt.plot(range(1, len(train_err) + 1), train_err, label=\"Train\")\n",
        "    plt.plot(range(1, len(val_err) + 1), val_err, label=\"Validation\")\n",
        "    plt.xlabel(\"Epoch\")\n",
        "    plt.ylabel(\"Error\")\n",
        "    plt.legend(loc='best')\n",
        "    plt.show()\n",
        "\n",
        "    plt.figure()\n",
        "    plt.title(\"Train vs Validation Loss\")\n",
        "    plt.plot(range(1, len(train_loss) + 1), train_loss, label=\"Train\")\n",
        "    plt.plot(range(1, len(val_loss) + 1), val_loss, label=\"Validation\")\n",
        "    plt.xlabel(\"Epoch\")\n",
        "    plt.ylabel(\"Loss\")\n",
        "    plt.legend(loc='best')\n",
        "    plt.show()"
      ],
      "metadata": {
        "id": "Cf1BJsonMR-T"
      },
      "execution_count": 9,
      "outputs": []
    },
    {
      "cell_type": "code",
      "source": [
        "net = CNN()\n",
        "train_net(net, batch_size=32, learning_rate=0.01, num_epochs=10)"
      ],
      "metadata": {
        "colab": {
          "base_uri": "https://localhost:8080/"
        },
        "id": "t-9rZL86NCO4",
        "outputId": "1a154dbb-fe23-4f8e-968d-9944f437e21a"
      },
      "execution_count": null,
      "outputs": [
        {
          "output_type": "stream",
          "name": "stdout",
          "text": [
            "Epoch 1: Train err: 0.8852, Train loss: 3.2410 | Validation err: 0.9218, Validation loss: 2.2421\n",
            "Epoch 2: Train err: 0.8320, Train loss: 2.2045 | Validation err: 0.7984, Validation loss: 2.1406\n",
            "Epoch 3: Train err: 0.7336, Train loss: 2.0355 | Validation err: 0.7449, Validation loss: 1.9421\n",
            "Epoch 4: Train err: 0.6270, Train loss: 1.7437 | Validation err: 0.6543, Validation loss: 1.7607\n",
            "Epoch 5: Train err: 0.5369, Train loss: 1.4932 | Validation err: 0.6008, Validation loss: 1.5966\n",
            "Epoch 6: Train err: 0.3730, Train loss: 1.1731 | Validation err: 0.4897, Validation loss: 1.4746\n",
            "Epoch 7: Train err: 0.2705, Train loss: 0.9181 | Validation err: 0.4815, Validation loss: 1.3372\n",
            "Epoch 8: Train err: 0.2295, Train loss: 0.6872 | Validation err: 0.4280, Validation loss: 1.2797\n",
            "Epoch 9: Train err: 0.1516, Train loss: 0.5173 | Validation err: 0.3868, Validation loss: 1.3633\n",
            "Epoch 10: Train err: 0.1025, Train loss: 0.3619 | Validation err: 0.3786, Validation loss: 1.3894\n",
            "Finished Training\n",
            "Total time elapsed: 449.56 seconds\n"
          ]
        }
      ]
    },
    {
      "cell_type": "code",
      "source": [
        "model_name1 = get_model_name(\"CNN\", batch_size=32, learning_rate=0.01, epoch=9)\n",
        "plot_training_curve(model_name1)"
      ],
      "metadata": {
        "colab": {
          "base_uri": "https://localhost:8080/",
          "height": 927
        },
        "id": "H1g2O_xTyumh",
        "outputId": "9bb42df2-5fe4-4bb6-892a-e11fd458b0d1"
      },
      "execution_count": null,
      "outputs": [
        {
          "output_type": "display_data",
          "data": {
            "text/plain": [
              "<Figure size 640x480 with 1 Axes>"
            ],
            "image/png": "[encoded data removed]"
          },
          "metadata": {}
        },
        {
          "output_type": "display_data",
          "data": {
            "text/plain": [
              "<Figure size 640x480 with 1 Axes>"
            ],
            "image/png": "[encoded data removed]"
          },
          "metadata": {}
        }
      ]
    },
    {
      "cell_type": "code",
      "source": [
        "net = CNN()\n",
        "train_net(net, batch_size=32, learning_rate=0.001, num_epochs=10)"
      ],
      "metadata": {
        "colab": {
          "base_uri": "https://localhost:8080/"
        },
        "id": "GhgmnwXjR1Gz",
        "outputId": "3e11ee3d-60ef-48f4-9302-6bc2c4b937da"
      },
      "execution_count": null,
      "outputs": [
        {
          "output_type": "stream",
          "name": "stdout",
          "text": [
            "Epoch 1: Train err: 0.8893, Train loss: 2.7605 | Validation err: 0.8560, Validation loss: 2.1617\n",
            "Epoch 2: Train err: 0.7623, Train loss: 2.1185 | Validation err: 0.8230, Validation loss: 2.0104\n",
            "Epoch 3: Train err: 0.7090, Train loss: 1.8552 | Validation err: 0.7695, Validation loss: 1.7688\n",
            "Epoch 4: Train err: 0.5410, Train loss: 1.5766 | Validation err: 0.7037, Validation loss: 1.6114\n",
            "Epoch 5: Train err: 0.4795, Train loss: 1.2528 | Validation err: 0.5597, Validation loss: 1.5282\n",
            "Epoch 6: Train err: 0.3279, Train loss: 0.9380 | Validation err: 0.4691, Validation loss: 1.4080\n",
            "Epoch 7: Train err: 0.3074, Train loss: 0.8523 | Validation err: 0.4486, Validation loss: 1.2930\n",
            "Epoch 8: Train err: 0.2049, Train loss: 0.6038 | Validation err: 0.4403, Validation loss: 1.3498\n",
            "Epoch 9: Train err: 0.1557, Train loss: 0.4825 | Validation err: 0.3868, Validation loss: 1.3141\n",
            "Epoch 10: Train err: 0.1230, Train loss: 0.4090 | Validation err: 0.4239, Validation loss: 1.4518\n",
            "Finished Training\n",
            "Total time elapsed: 443.54 seconds\n"
          ]
        }
      ]
    },
    {
      "cell_type": "code",
      "source": [
        "model_name2 = get_model_name(\"CNN\", batch_size=32, learning_rate=0.001, epoch=9)\n",
        "plot_training_curve(model_name2)"
      ],
      "metadata": {
        "colab": {
          "base_uri": "https://localhost:8080/",
          "height": 927
        },
        "id": "2a9P0zaTyzBh",
        "outputId": "be7640b1-59a5-4315-c867-d524639e1513"
      },
      "execution_count": null,
      "outputs": [
        {
          "output_type": "display_data",
          "data": {
            "text/plain": [
              "<Figure size 640x480 with 1 Axes>"
            ],
            "image/png": "[encoded data removed]"
          },
          "metadata": {}
        },
        {
          "output_type": "display_data",
          "data": {
            "text/plain": [
              "<Figure size 640x480 with 1 Axes>"
            ],
            "image/png": "[encoded data removed]"
          },
          "metadata": {}
        }
      ]
    },
    {
      "cell_type": "code",
      "source": [
        "net = CNN()\n",
        "train_net(net, batch_size=32, learning_rate=0.01, num_epochs=20)"
      ],
      "metadata": {
        "colab": {
          "base_uri": "https://localhost:8080/"
        },
        "id": "gjYRKCgcWzGe",
        "outputId": "33681233-9a78-42c1-86d8-baa264588b77"
      },
      "execution_count": null,
      "outputs": [
        {
          "output_type": "stream",
          "name": "stdout",
          "text": [
            "Epoch 1: Train err: 0.8893, Train loss: 2.7605 | Validation err: 0.8560, Validation loss: 2.1617\n",
            "Epoch 2: Train err: 0.7623, Train loss: 2.1185 | Validation err: 0.8230, Validation loss: 2.0104\n",
            "Epoch 3: Train err: 0.7090, Train loss: 1.8552 | Validation err: 0.7695, Validation loss: 1.7688\n",
            "Epoch 4: Train err: 0.5410, Train loss: 1.5766 | Validation err: 0.7037, Validation loss: 1.6114\n",
            "Epoch 5: Train err: 0.4795, Train loss: 1.2528 | Validation err: 0.5597, Validation loss: 1.5282\n",
            "Epoch 6: Train err: 0.3279, Train loss: 0.9380 | Validation err: 0.4691, Validation loss: 1.4080\n",
            "Epoch 7: Train err: 0.3074, Train loss: 0.8523 | Validation err: 0.4486, Validation loss: 1.2930\n",
            "Epoch 8: Train err: 0.2049, Train loss: 0.6038 | Validation err: 0.4403, Validation loss: 1.3498\n",
            "Epoch 9: Train err: 0.1557, Train loss: 0.4825 | Validation err: 0.3868, Validation loss: 1.3141\n",
            "Epoch 10: Train err: 0.1230, Train loss: 0.4090 | Validation err: 0.4239, Validation loss: 1.4518\n",
            "Epoch 11: Train err: 0.1148, Train loss: 0.3058 | Validation err: 0.3539, Validation loss: 1.3336\n",
            "Epoch 12: Train err: 0.0738, Train loss: 0.2170 | Validation err: 0.4033, Validation loss: 1.6136\n",
            "Epoch 13: Train err: 0.0533, Train loss: 0.1961 | Validation err: 0.4115, Validation loss: 1.5146\n",
            "Epoch 14: Train err: 0.0369, Train loss: 0.1497 | Validation err: 0.3868, Validation loss: 1.5958\n",
            "Epoch 15: Train err: 0.0205, Train loss: 0.1339 | Validation err: 0.4115, Validation loss: 1.6862\n",
            "Epoch 16: Train err: 0.0615, Train loss: 0.1766 | Validation err: 0.3951, Validation loss: 1.7570\n",
            "Epoch 17: Train err: 0.0492, Train loss: 0.1195 | Validation err: 0.3909, Validation loss: 1.7525\n",
            "Epoch 18: Train err: 0.0123, Train loss: 0.0870 | Validation err: 0.3704, Validation loss: 1.7630\n",
            "Epoch 19: Train err: 0.0082, Train loss: 0.0522 | Validation err: 0.3786, Validation loss: 1.9003\n",
            "Epoch 20: Train err: 0.0000, Train loss: 0.0421 | Validation err: 0.3621, Validation loss: 2.0858\n",
            "Finished Training\n",
            "Total time elapsed: 903.19 seconds\n"
          ]
        }
      ]
    },
    {
      "cell_type": "code",
      "source": [
        "model_name3 = get_model_name(\"CNN\", batch_size=32, learning_rate=0.01, epoch=19)\n",
        "plot_training_curve(model_name3)"
      ],
      "metadata": {
        "colab": {
          "base_uri": "https://localhost:8080/",
          "height": 927
        },
        "id": "UPkuXzkKy4N2",
        "outputId": "82e5ee6a-4ff8-447d-8a7f-0c702c5858a9"
      },
      "execution_count": null,
      "outputs": [
        {
          "output_type": "display_data",
          "data": {
            "text/plain": [
              "<Figure size 640x480 with 1 Axes>"
            ],
            "image/png": "[encoded data removed]"
          },
          "metadata": {}
        },
        {
          "output_type": "display_data",
          "data": {
            "text/plain": [
              "<Figure size 640x480 with 1 Axes>"
            ],
            "image/png": "[encoded data removed]"
          },
          "metadata": {}
        }
      ]
    },
    {
      "cell_type": "code",
      "source": [
        "net = CNN()\n",
        "train_net(net, batch_size=64, learning_rate=0.01, num_epochs=10)"
      ],
      "metadata": {
        "colab": {
          "base_uri": "https://localhost:8080/"
        },
        "id": "lvQFLiGOakb4",
        "outputId": "b7e7096f-cef5-4aeb-c111-25b22de1d623"
      },
      "execution_count": null,
      "outputs": [
        {
          "output_type": "stream",
          "name": "stdout",
          "text": [
            "Epoch 1: Train err: 0.8893, Train loss: 3.5887 | Validation err: 0.8971, Validation loss: 2.2379\n",
            "Epoch 2: Train err: 0.8852, Train loss: 2.1919 | Validation err: 0.9218, Validation loss: 2.2009\n",
            "Epoch 3: Train err: 0.8607, Train loss: 2.2070 | Validation err: 0.8519, Validation loss: 2.2085\n",
            "Epoch 4: Train err: 0.8770, Train loss: 2.1971 | Validation err: 0.8519, Validation loss: 2.2005\n",
            "Epoch 5: Train err: 0.8730, Train loss: 2.1774 | Validation err: 0.8889, Validation loss: 2.1795\n",
            "Epoch 6: Train err: 0.8443, Train loss: 2.1384 | Validation err: 0.7984, Validation loss: 2.1186\n",
            "Epoch 7: Train err: 0.6885, Train loss: 2.0451 | Validation err: 0.7366, Validation loss: 2.0405\n",
            "Epoch 8: Train err: 0.6639, Train loss: 1.8935 | Validation err: 0.6626, Validation loss: 1.8777\n",
            "Epoch 9: Train err: 0.6066, Train loss: 1.7121 | Validation err: 0.6790, Validation loss: 1.7830\n",
            "Epoch 10: Train err: 0.5492, Train loss: 1.5591 | Validation err: 0.6461, Validation loss: 1.6420\n",
            "Finished Training\n",
            "Total time elapsed: 433.09 seconds\n"
          ]
        }
      ]
    },
    {
      "cell_type": "code",
      "source": [
        "model_name4 = get_model_name(\"CNN\", batch_size=64, learning_rate=0.01, epoch=9)\n",
        "plot_training_curve(model_name4)"
      ],
      "metadata": {
        "colab": {
          "base_uri": "https://localhost:8080/",
          "height": 927
        },
        "id": "7Pkf0T4gy8zi",
        "outputId": "fa4592ac-8e39-45cd-b477-501c268c400c"
      },
      "execution_count": null,
      "outputs": [
        {
          "output_type": "display_data",
          "data": {
            "text/plain": [
              "<Figure size 640x480 with 1 Axes>"
            ],
            "image/png": "[encoded data removed]"
          },
          "metadata": {}
        },
        {
          "output_type": "display_data",
          "data": {
            "text/plain": [
              "<Figure size 640x480 with 1 Axes>"
            ],
            "image/png": "[encoded data removed]"
          },
          "metadata": {}
        }
      ]
    },
    {
      "cell_type": "code",
      "source": [
        "net = CNN()\n",
        "train_net(net, batch_size=16, learning_rate=0.01, num_epochs=10)"
      ],
      "metadata": {
        "colab": {
          "base_uri": "https://localhost:8080/"
        },
        "id": "NMf14bs-cUHH",
        "outputId": "5b1f1933-fb8b-45d7-dc08-25979e9b3686"
      },
      "execution_count": null,
      "outputs": [
        {
          "output_type": "stream",
          "name": "stdout",
          "text": [
            "Epoch 1: Train err: 0.9098, Train loss: 2.4788 | Validation err: 0.8889, Validation loss: 2.1829\n",
            "Epoch 2: Train err: 0.7910, Train loss: 2.0854 | Validation err: 0.7366, Validation loss: 1.9131\n",
            "Epoch 3: Train err: 0.5820, Train loss: 1.6926 | Validation err: 0.5432, Validation loss: 1.6155\n",
            "Epoch 4: Train err: 0.3934, Train loss: 1.2750 | Validation err: 0.5350, Validation loss: 1.4108\n",
            "Epoch 5: Train err: 0.2623, Train loss: 0.9273 | Validation err: 0.4321, Validation loss: 1.2795\n",
            "Epoch 6: Train err: 0.2049, Train loss: 0.7146 | Validation err: 0.4815, Validation loss: 1.4349\n",
            "Epoch 7: Train err: 0.1926, Train loss: 0.6323 | Validation err: 0.4527, Validation loss: 1.4190\n",
            "Epoch 8: Train err: 0.0984, Train loss: 0.4146 | Validation err: 0.3909, Validation loss: 1.2835\n",
            "Epoch 9: Train err: 0.1230, Train loss: 0.3608 | Validation err: 0.4033, Validation loss: 1.4056\n",
            "Epoch 10: Train err: 0.0861, Train loss: 0.2963 | Validation err: 0.3621, Validation loss: 1.3980\n",
            "Finished Training\n",
            "Total time elapsed: 439.75 seconds\n"
          ]
        }
      ]
    },
    {
      "cell_type": "code",
      "source": [
        "model_name5 = get_model_name(\"CNN\", batch_size=16, learning_rate=0.01, epoch=9)\n",
        "plot_training_curve(model_name5)"
      ],
      "metadata": {
        "colab": {
          "base_uri": "https://localhost:8080/",
          "height": 927
        },
        "id": "mDLNobuvzBMA",
        "outputId": "2d74d444-6149-4340-ef87-a89fb5723f9f"
      },
      "execution_count": null,
      "outputs": [
        {
          "output_type": "display_data",
          "data": {
            "text/plain": [
              "<Figure size 640x480 with 1 Axes>"
            ],
            "image/png": "[encoded data removed]"
          },
          "metadata": {}
        },
        {
          "output_type": "display_data",
          "data": {
            "text/plain": [
              "<Figure size 640x480 with 1 Axes>"
            ],
            "image/png": "[encoded data removed]"
          },
          "metadata": {}
        }
      ]
    },
    {
      "cell_type": "code",
      "source": [
        "# Consider changing the architecture of model hidden size to 64\n",
        "class CNN_v2(nn.Module):\n",
        "  def __init__(self):\n",
        "    super(CNN_v2, self).__init__()\n",
        "    self.name = \"CNN_v2\"  # Use a different name to avoid conflicts\n",
        "    self.conv1 = nn.Conv2d(in_channels=3, out_channels=32, kernel_size=3, stride=1, padding=1)\n",
        "    self.pool = nn.MaxPool2d(kernel_size=2, stride=2)\n",
        "    self.conv2 = nn.Conv2d(in_channels=32, out_channels=64, kernel_size=3, stride=1, padding=1)\n",
        "    self.relu = nn.ReLU()\n",
        "    self.fc1 = nn.Linear(64 * 56 * 56, 64)\n",
        "    self.fc2 = nn.Linear(64, 9)\n",
        "\n",
        "  def forward(self, x):\n",
        "    x = self.pool(self.relu(self.conv1(x)))\n",
        "    x = self.pool(self.relu(self.conv2(x)))\n",
        "    x = x.view(x.size(0), -1)\n",
        "    x = self.relu(self.fc1(x))\n",
        "    x = self.fc2(x)\n",
        "    return x"
      ],
      "metadata": {
        "id": "2MPAyM4Xfy5x"
      },
      "execution_count": null,
      "outputs": []
    },
    {
      "cell_type": "code",
      "source": [
        "net = CNN_v2()\n",
        "train_net(net, batch_size=16, learning_rate=0.01, num_epochs=10)"
      ],
      "metadata": {
        "colab": {
          "base_uri": "https://localhost:8080/"
        },
        "id": "cp1T8xixf-4_",
        "outputId": "ce435303-fd00-4767-e37a-d1c9051a811d"
      },
      "execution_count": null,
      "outputs": [
        {
          "output_type": "stream",
          "name": "stdout",
          "text": [
            "Epoch 1: Train err: 0.8607, Train loss: 2.5429 | Validation err: 0.7366, Validation loss: 2.1332\n",
            "Epoch 2: Train err: 0.6270, Train loss: 1.8277 | Validation err: 0.5926, Validation loss: 1.6816\n",
            "Epoch 3: Train err: 0.4918, Train loss: 1.4559 | Validation err: 0.5638, Validation loss: 1.5263\n",
            "Epoch 4: Train err: 0.3893, Train loss: 1.1569 | Validation err: 0.4774, Validation loss: 1.4851\n",
            "Epoch 5: Train err: 0.3033, Train loss: 0.9038 | Validation err: 0.4568, Validation loss: 1.2529\n",
            "Epoch 6: Train err: 0.2213, Train loss: 0.6374 | Validation err: 0.4527, Validation loss: 1.4883\n",
            "Epoch 7: Train err: 0.1516, Train loss: 0.4497 | Validation err: 0.4198, Validation loss: 1.7120\n",
            "Epoch 8: Train err: 0.0738, Train loss: 0.3225 | Validation err: 0.3580, Validation loss: 1.5635\n",
            "Epoch 9: Train err: 0.0738, Train loss: 0.2515 | Validation err: 0.3745, Validation loss: 1.3840\n",
            "Epoch 10: Train err: 0.0697, Train loss: 0.1930 | Validation err: 0.3951, Validation loss: 1.7168\n",
            "Finished Training\n",
            "Total time elapsed: 456.19 seconds\n"
          ]
        }
      ]
    },
    {
      "cell_type": "code",
      "source": [
        "model_name6 = get_model_name(\"CNN_v2\", batch_size=16, learning_rate=0.01, epoch=9)\n",
        "plot_training_curve(model_name6)"
      ],
      "metadata": {
        "colab": {
          "base_uri": "https://localhost:8080/",
          "height": 927
        },
        "id": "km9HIixqzFNZ",
        "outputId": "8d7e9221-4fd8-4fd1-d2a4-4ce03b8b05c2"
      },
      "execution_count": null,
      "outputs": [
        {
          "output_type": "display_data",
          "data": {
            "text/plain": [
              "<Figure size 640x480 with 1 Axes>"
            ],
            "image/png": "[encoded data removed]"
          },
          "metadata": {}
        },
        {
          "output_type": "display_data",
          "data": {
            "text/plain": [
              "<Figure size 640x480 with 1 Axes>"
            ],
            "image/png": "[encoded data removed]"
          },
          "metadata": {}
        }
      ]
    },
    {
      "cell_type": "code",
      "source": [
        "net = CNN_v2()\n",
        "train_net(net, batch_size=16, learning_rate=0.001, num_epochs=10)"
      ],
      "metadata": {
        "colab": {
          "base_uri": "https://localhost:8080/"
        },
        "id": "ke1LHsF41POD",
        "outputId": "0955b5d8-f9d1-427e-ac71-4fdf512cb582"
      },
      "execution_count": null,
      "outputs": [
        {
          "output_type": "stream",
          "name": "stdout",
          "text": [
            "Epoch 1: Train err: 0.9139, Train loss: 2.5207 | Validation err: 0.8272, Validation loss: 2.1910\n",
            "Epoch 2: Train err: 0.7336, Train loss: 2.0789 | Validation err: 0.5597, Validation loss: 1.9037\n",
            "Epoch 3: Train err: 0.5902, Train loss: 1.6319 | Validation err: 0.6584, Validation loss: 1.6617\n",
            "Epoch 4: Train err: 0.4426, Train loss: 1.2660 | Validation err: 0.5844, Validation loss: 1.7492\n",
            "Epoch 5: Train err: 0.3443, Train loss: 1.0606 | Validation err: 0.4198, Validation loss: 1.2473\n",
            "Epoch 6: Train err: 0.2541, Train loss: 0.7591 | Validation err: 0.5556, Validation loss: 1.5997\n",
            "Epoch 7: Train err: 0.1885, Train loss: 0.6054 | Validation err: 0.4691, Validation loss: 1.6004\n",
            "Epoch 8: Train err: 0.1393, Train loss: 0.3988 | Validation err: 0.3663, Validation loss: 1.2591\n",
            "Epoch 9: Train err: 0.1025, Train loss: 0.2992 | Validation err: 0.3992, Validation loss: 1.4020\n",
            "Epoch 10: Train err: 0.0533, Train loss: 0.1958 | Validation err: 0.3992, Validation loss: 1.5735\n",
            "Finished Training\n",
            "Total time elapsed: 492.63 seconds\n"
          ]
        }
      ]
    },
    {
      "cell_type": "code",
      "source": [
        "model_name7 = get_model_name(\"CNN_v2\", batch_size=16, learning_rate=0.001, epoch=9)\n",
        "plot_training_curve(model_name7)"
      ],
      "metadata": {
        "colab": {
          "base_uri": "https://localhost:8080/",
          "height": 927
        },
        "id": "GVTRq1Y71WU7",
        "outputId": "e319c91e-e4a9-48b7-b8e9-3a1bc349a21d"
      },
      "execution_count": null,
      "outputs": [
        {
          "output_type": "display_data",
          "data": {
            "text/plain": [
              "<Figure size 640x480 with 1 Axes>"
            ],
            "image/png": "[encoded data removed]"
          },
          "metadata": {}
        },
        {
          "output_type": "display_data",
          "data": {
            "text/plain": [
              "<Figure size 640x480 with 1 Axes>"
            ],
            "image/png": "[encoded data removed]"
          },
          "metadata": {}
        }
      ]
    },
    {
      "cell_type": "code",
      "source": [
        "# Consider changing the architecture of model hidded size to 128\n",
        "class CNN_v3(nn.Module):\n",
        "  def __init__(self):\n",
        "    super(CNN_v3, self).__init__()\n",
        "    self.name = \"CNN_v3\"  # Use a different name to avoid conflicts\n",
        "    self.conv1 = nn.Conv2d(in_channels=3, out_channels=32, kernel_size=3, stride=1, padding=1)\n",
        "    self.pool = nn.MaxPool2d(kernel_size=2, stride=2)\n",
        "    self.conv2 = nn.Conv2d(in_channels=32, out_channels=64, kernel_size=3, stride=1, padding=1)\n",
        "    self.relu = nn.ReLU()\n",
        "    self.fc1 = nn.Linear(64 * 56 * 56, 128)\n",
        "    self.fc2 = nn.Linear(128, 9)\n",
        "\n",
        "  def forward(self, x):\n",
        "    x = self.pool(self.relu(self.conv1(x)))\n",
        "    x = self.pool(self.relu(self.conv2(x)))\n",
        "    x = x.view(x.size(0), -1)\n",
        "    x = self.relu(self.fc1(x))\n",
        "    x = self.fc2(x)\n",
        "    return x"
      ],
      "metadata": {
        "id": "K1EeZJokjOr1"
      },
      "execution_count": null,
      "outputs": []
    },
    {
      "cell_type": "code",
      "source": [
        "net = CNN_v3()\n",
        "train_net(net, batch_size=32, learning_rate=0.01, num_epochs=10)"
      ],
      "metadata": {
        "colab": {
          "base_uri": "https://localhost:8080/"
        },
        "id": "Cz5ic8W7jWlA",
        "outputId": "00c4e946-4945-4861-daf9-b9f278f6e827"
      },
      "execution_count": null,
      "outputs": [
        {
          "output_type": "stream",
          "name": "stdout",
          "text": [
            "Epoch 1: Train err: 0.8975, Train loss: 4.0131 | Validation err: 0.8889, Validation loss: 2.2325\n",
            "Epoch 2: Train err: 0.8893, Train loss: 2.1943 | Validation err: 0.7613, Validation loss: 2.1611\n",
            "Epoch 3: Train err: 0.7131, Train loss: 2.0654 | Validation err: 0.6872, Validation loss: 1.9739\n",
            "Epoch 4: Train err: 0.5492, Train loss: 1.6858 | Validation err: 0.5597, Validation loss: 1.7395\n",
            "Epoch 5: Train err: 0.4426, Train loss: 1.3127 | Validation err: 0.5473, Validation loss: 1.4773\n",
            "Epoch 6: Train err: 0.3607, Train loss: 0.9894 | Validation err: 0.5021, Validation loss: 1.5737\n",
            "Epoch 7: Train err: 0.3115, Train loss: 0.8628 | Validation err: 0.4979, Validation loss: 1.7374\n",
            "Epoch 8: Train err: 0.2254, Train loss: 0.6848 | Validation err: 0.4198, Validation loss: 1.1586\n",
            "Epoch 9: Train err: 0.1885, Train loss: 0.5987 | Validation err: 0.4321, Validation loss: 1.6473\n",
            "Epoch 10: Train err: 0.1352, Train loss: 0.4228 | Validation err: 0.3704, Validation loss: 1.2326\n",
            "Finished Training\n",
            "Total time elapsed: 474.89 seconds\n"
          ]
        }
      ]
    },
    {
      "cell_type": "code",
      "source": [
        "model_name8 = get_model_name(\"CNN_v3\", batch_size=32, learning_rate=0.01, epoch=9)\n",
        "plot_training_curve(model_name8)"
      ],
      "metadata": {
        "colab": {
          "base_uri": "https://localhost:8080/",
          "height": 927
        },
        "id": "2WpeqOQqzM23",
        "outputId": "e20281a5-4c2b-4d10-d264-a887159d0159"
      },
      "execution_count": null,
      "outputs": [
        {
          "output_type": "display_data",
          "data": {
            "text/plain": [
              "<Figure size 640x480 with 1 Axes>"
            ],
            "image/png": "[encoded data removed]"
          },
          "metadata": {}
        },
        {
          "output_type": "display_data",
          "data": {
            "text/plain": [
              "<Figure size 640x480 with 1 Axes>"
            ],
            "image/png": "[encoded data removed]"
          },
          "metadata": {}
        }
      ]
    },
    {
      "cell_type": "code",
      "source": [
        "# Add Dropout layers with a probability of 0.5 after the convolutional layers and fc1.\n",
        "class CNN_v4(nn.Module):\n",
        "    def __init__(self):\n",
        "        super(CNN_v4, self).__init__()\n",
        "        self.name = \"CNN_v4\"\n",
        "        self.conv1 = nn.Conv2d(in_channels=3, out_channels=32, kernel_size=3, stride=1, padding=1)\n",
        "        self.conv2 = nn.Conv2d(in_channels=32, out_channels=64, kernel_size=3, stride=1, padding=1)\n",
        "        self.pool = nn.MaxPool2d(kernel_size=2, stride=2)\n",
        "        self.dropout = nn.Dropout(0.5)  # Add dropout\n",
        "        self.fc1 = nn.Linear(64 * 56 * 56, 64)\n",
        "        self.fc2 = nn.Linear(64, 9)\n",
        "\n",
        "    def forward(self, x):\n",
        "        x = self.pool(F.relu(self.conv1(x)))\n",
        "        x = self.pool(F.relu(self.conv2(x)))\n",
        "        x = x.view(x.size(0),-1)\n",
        "        x = self.dropout(F.relu(self.fc1(x)))  # Apply dropout\n",
        "        x = self.fc2(x)\n",
        "        return x"
      ],
      "metadata": {
        "id": "6lpjCJsk3_LO"
      },
      "execution_count": null,
      "outputs": []
    },
    {
      "cell_type": "code",
      "source": [
        "net = CNN_v4()\n",
        "train_net(net, batch_size=32, learning_rate=0.001, num_epochs=10)"
      ],
      "metadata": {
        "colab": {
          "base_uri": "https://localhost:8080/"
        },
        "id": "D7Iy7ULs4Wg_",
        "outputId": "65ad4454-7083-4e34-8c53-81cf055448a5"
      },
      "execution_count": null,
      "outputs": [
        {
          "output_type": "stream",
          "name": "stdout",
          "text": [
            "Epoch 1: Train err: 0.9057, Train loss: 3.3963 | Validation err: 0.8971, Validation loss: 2.2075\n",
            "Epoch 2: Train err: 0.8852, Train loss: 2.1967 | Validation err: 0.8354, Validation loss: 2.1830\n",
            "Epoch 3: Train err: 0.7910, Train loss: 2.1593 | Validation err: 0.7942, Validation loss: 2.1575\n",
            "Epoch 4: Train err: 0.7828, Train loss: 2.0723 | Validation err: 0.7449, Validation loss: 2.0724\n",
            "Epoch 5: Train err: 0.7090, Train loss: 1.9629 | Validation err: 0.7037, Validation loss: 1.9220\n",
            "Epoch 6: Train err: 0.6844, Train loss: 1.8149 | Validation err: 0.7243, Validation loss: 1.8907\n",
            "Epoch 7: Train err: 0.6311, Train loss: 1.6760 | Validation err: 0.6626, Validation loss: 1.7281\n",
            "Epoch 8: Train err: 0.5082, Train loss: 1.4571 | Validation err: 0.6091, Validation loss: 1.6838\n",
            "Epoch 9: Train err: 0.5041, Train loss: 1.4149 | Validation err: 0.6543, Validation loss: 1.7638\n",
            "Epoch 10: Train err: 0.4426, Train loss: 1.2524 | Validation err: 0.5802, Validation loss: 1.5450\n",
            "Finished Training\n",
            "Total time elapsed: 468.25 seconds\n"
          ]
        }
      ]
    },
    {
      "cell_type": "markdown",
      "metadata": {
        "id": "H93iN5_l60BO"
      },
      "source": [
        "### Part (iii) - [2pt DISCUSSION]\n",
        "Choose the best model out of all the ones that you have trained. Justify your choice."
      ]
    },
    {
      "cell_type": "code",
      "execution_count": null,
      "metadata": {
        "id": "eJHwissDbNMD"
      },
      "outputs": [],
      "source": [
        "'''\n",
        "PROVIDE YOUR ANSWER BELOW\n",
        "\n",
        "I choose the model CNN, with batch_size=32, learning_rate=0.01 and epoch = 9\n",
        "This model is a strong choice because both training and validation errors decrease consistently, showing the model learns patterns well.\n",
        "There is a small gap between training and validation errors indicates the model performs well on unseen data.\n",
        "The smooth error curves reflect proper hyperparameter choices and the model achieves strong performance in just 10 epochs without overfitting.\n",
        "The architecture is balanced with hidden size 128, avoiding unnecessary complexity while delivering reliable results.\n",
        "\n",
        "'''"
      ]
    },
    {
      "cell_type": "markdown",
      "metadata": {
        "id": "QzNA5oup67JO"
      },
      "source": [
        "### Part (iv) - [2pt RESULTS]\n",
        "Report the test accuracy of your best model. You should only do this step once and prior to this step you should have only used the training and validation data.\n",
        "\n",
        "Additionally, provide a confusion matrix to visualize the performance of your model across different classes."
      ]
    },
    {
      "cell_type": "code",
      "source": [
        "import pandas as pd\n",
        "\n",
        "data_dir = '/content/A2_Hand_Gesture_Dataset_revised/Lab_3b_Gesture_Dataset Revised'\n",
        "batch_size = 32\n",
        "lr = 0.01\n",
        "epoch = 9\n",
        "\n",
        "# Use the get_data_loader function to load the dataset\n",
        "train_loader, val_loader, test_loader, classes = get_data_loader(\n",
        "    data_dir=data_dir, batch_size=batch_size\n",
        ")\n",
        "\n",
        "chosen_model = CNN()\n",
        "model_name = get_model_name(\"CNN\", batch_size, lr, epoch)\n",
        "model_path = f\"{model_name}\"\n",
        "\n",
        "\n",
        "chosen_model.load_state_dict(torch.load(model_path))\n",
        "criterion = nn.CrossEntropyLoss()\n",
        "test_err, test_loss = evaluate(chosen_model, test_loader, criterion)\n",
        "\n",
        "\n",
        "test_results = {\n",
        "    \"Test Error\": test_err,\n",
        "    \"Test Loss\": test_loss\n",
        "}\n",
        "test_results = pd.DataFrame(test_results, index=[0])\n",
        "test_results"
      ],
      "metadata": {
        "colab": {
          "base_uri": "https://localhost:8080/",
          "height": 144
        },
        "id": "TT-J2oSc2lV5",
        "outputId": "244d1805-247b-4159-d247-3ab787a7e05a"
      },
      "execution_count": null,
      "outputs": [
        {
          "output_type": "stream",
          "name": "stderr",
          "text": [
            "<ipython-input-52-eef1ea48c42b>:18: FutureWarning: You are using `torch.load` with `weights_only=False` (the current default value), which uses the default pickle module implicitly. It is possible to construct malicious pickle data which will execute arbitrary code during unpickling (See https://github.com/pytorch/pytorch/blob/main/SECURITY.md#untrusted-models for more details). In a future release, the default value for `weights_only` will be flipped to `True`. This limits the functions that could be executed during unpickling. Arbitrary objects will no longer be allowed to be loaded via this mode unless they are explicitly allowlisted by the user via `torch.serialization.add_safe_globals`. We recommend you start setting `weights_only=True` for any use case where you don't have full control of the loaded file. Please open an issue on GitHub for any issues related to this experimental feature.\n",
            "  chosen_model.load_state_dict(torch.load(model_path))\n"
          ]
        },
        {
          "output_type": "execute_result",
          "data": {
            "text/plain": [
              "   Test Error  Test Loss\n",
              "0    0.377892   1.427764"
            ],
            "text/html": [
              "\n",
              "  <div id=\"df-fba6393c-cef4-4a4a-b29e-d1d8fe31904c\" class=\"colab-df-container\">\n",
              "    <div>\n",
              "<style scoped>\n",
              "    .dataframe tbody tr th:only-of-type {\n",
              "        vertical-align: middle;\n",
              "    }\n",
              "\n",
              "    .dataframe tbody tr th {\n",
              "        vertical-align: top;\n",
              "    }\n",
              "\n",
              "    .dataframe thead th {\n",
              "        text-align: right;\n",
              "    }\n",
              "</style>\n",
              "<table border=\"1\" class=\"dataframe\">\n",
              "  <thead>\n",
              "    <tr style=\"text-align: right;\">\n",
              "      <th></th>\n",
              "      <th>Test Error</th>\n",
              "      <th>Test Loss</th>\n",
              "    </tr>\n",
              "  </thead>\n",
              "  <tbody>\n",
              "    <tr>\n",
              "      <th>0</th>\n",
              "      <td>0.377892</td>\n",
              "      <td>1.427764</td>\n",
              "    </tr>\n",
              "  </tbody>\n",
              "</table>\n",
              "</div>\n",
              "    <div class=\"colab-df-buttons\">\n",
              "\n",
              "  <div class=\"colab-df-container\">\n",
              "    <button class=\"colab-df-convert\" onclick=\"convertToInteractive('df-fba6393c-cef4-4a4a-b29e-d1d8fe31904c')\"\n",
              "            title=\"Convert this dataframe to an interactive table.\"\n",
              "            style=\"display:none;\">\n",
              "\n",
              "  <svg xmlns=\"http://www.w3.org/2000/svg\" height=\"24px\" viewBox=\"0 -960 960 960\">\n",
              "    <path d=\"M120-120v-720h720v720H120Zm60-500h600v-160H180v160Zm220 220h160v-160H400v160Zm0 220h160v-160H400v160ZM180-400h160v-160H180v160Zm440 0h160v-160H620v160ZM180-180h160v-160H180v160Zm440 0h160v-160H620v160Z\"/>\n",
              "  </svg>\n",
              "    </button>\n",
              "\n",
              "  <style>\n",
              "    .colab-df-container {\n",
              "      display:flex;\n",
              "      gap: 12px;\n",
              "    }\n",
              "\n",
              "    .colab-df-convert {\n",
              "      background-color: #E8F0FE;\n",
              "      border: none;\n",
              "      border-radius: 50%;\n",
              "      cursor: pointer;\n",
              "      display: none;\n",
              "      fill: #1967D2;\n",
              "      height: 32px;\n",
              "      padding: 0 0 0 0;\n",
              "      width: 32px;\n",
              "    }\n",
              "\n",
              "    .colab-df-convert:hover {\n",
              "      background-color: #E2EBFA;\n",
              "      box-shadow: 0px 1px 2px rgba(60, 64, 67, 0.3), 0px 1px 3px 1px rgba(60, 64, 67, 0.15);\n",
              "      fill: #174EA6;\n",
              "    }\n",
              "\n",
              "    .colab-df-buttons div {\n",
              "      margin-bottom: 4px;\n",
              "    }\n",
              "\n",
              "    [theme=dark] .colab-df-convert {\n",
              "      background-color: #3B4455;\n",
              "      fill: #D2E3FC;\n",
              "    }\n",
              "\n",
              "    [theme=dark] .colab-df-convert:hover {\n",
              "      background-color: #434B5C;\n",
              "      box-shadow: 0px 1px 3px 1px rgba(0, 0, 0, 0.15);\n",
              "      filter: drop-shadow(0px 1px 2px rgba(0, 0, 0, 0.3));\n",
              "      fill: #FFFFFF;\n",
              "    }\n",
              "  </style>\n",
              "\n",
              "    <script>\n",
              "      const buttonEl =\n",
              "        document.querySelector('#df-fba6393c-cef4-4a4a-b29e-d1d8fe31904c button.colab-df-convert');\n",
              "      buttonEl.style.display =\n",
              "        google.colab.kernel.accessAllowed ? 'block' : 'none';\n",
              "\n",
              "      async function convertToInteractive(key) {\n",
              "        const element = document.querySelector('#df-fba6393c-cef4-4a4a-b29e-d1d8fe31904c');\n",
              "        const dataTable =\n",
              "          await google.colab.kernel.invokeFunction('convertToInteractive',\n",
              "                                                    [key], {});\n",
              "        if (!dataTable) return;\n",
              "\n",
              "        const docLinkHtml = 'Like what you see? Visit the ' +\n",
              "          '<a target=\"_blank\" href=https://colab.research.google.com/notebooks/data_table.ipynb>data table notebook</a>'\n",
              "          + ' to learn more about interactive tables.';\n",
              "        element.innerHTML = '';\n",
              "        dataTable['output_type'] = 'display_data';\n",
              "        await google.colab.output.renderOutput(dataTable, element);\n",
              "        const docLink = document.createElement('div');\n",
              "        docLink.innerHTML = docLinkHtml;\n",
              "        element.appendChild(docLink);\n",
              "      }\n",
              "    </script>\n",
              "  </div>\n",
              "\n",
              "\n",
              "  <div id=\"id_334a15f4-5c29-4ab1-a8c7-2ba54f907c4c\">\n",
              "    <style>\n",
              "      .colab-df-generate {\n",
              "        background-color: #E8F0FE;\n",
              "        border: none;\n",
              "        border-radius: 50%;\n",
              "        cursor: pointer;\n",
              "        display: none;\n",
              "        fill: #1967D2;\n",
              "        height: 32px;\n",
              "        padding: 0 0 0 0;\n",
              "        width: 32px;\n",
              "      }\n",
              "\n",
              "      .colab-df-generate:hover {\n",
              "        background-color: #E2EBFA;\n",
              "        box-shadow: 0px 1px 2px rgba(60, 64, 67, 0.3), 0px 1px 3px 1px rgba(60, 64, 67, 0.15);\n",
              "        fill: #174EA6;\n",
              "      }\n",
              "\n",
              "      [theme=dark] .colab-df-generate {\n",
              "        background-color: #3B4455;\n",
              "        fill: #D2E3FC;\n",
              "      }\n",
              "\n",
              "      [theme=dark] .colab-df-generate:hover {\n",
              "        background-color: #434B5C;\n",
              "        box-shadow: 0px 1px 3px 1px rgba(0, 0, 0, 0.15);\n",
              "        filter: drop-shadow(0px 1px 2px rgba(0, 0, 0, 0.3));\n",
              "        fill: #FFFFFF;\n",
              "      }\n",
              "    </style>\n",
              "    <button class=\"colab-df-generate\" onclick=\"generateWithVariable('test_results')\"\n",
              "            title=\"Generate code using this dataframe.\"\n",
              "            style=\"display:none;\">\n",
              "\n",
              "  <svg xmlns=\"http://www.w3.org/2000/svg\" height=\"24px\"viewBox=\"0 0 24 24\"\n",
              "       width=\"24px\">\n",
              "    <path d=\"M7,19H8.4L18.45,9,17,7.55,7,17.6ZM5,21V16.75L18.45,3.32a2,2,0,0,1,2.83,0l1.4,1.43a1.91,1.91,0,0,1,.58,1.4,1.91,1.91,0,0,1-.58,1.4L9.25,21ZM18.45,9,17,7.55Zm-12,3A5.31,5.31,0,0,0,4.9,8.1,5.31,5.31,0,0,0,1,6.5,5.31,5.31,0,0,0,4.9,4.9,5.31,5.31,0,0,0,6.5,1,5.31,5.31,0,0,0,8.1,4.9,5.31,5.31,0,0,0,12,6.5,5.46,5.46,0,0,0,6.5,12Z\"/>\n",
              "  </svg>\n",
              "    </button>\n",
              "    <script>\n",
              "      (() => {\n",
              "      const buttonEl =\n",
              "        document.querySelector('#id_334a15f4-5c29-4ab1-a8c7-2ba54f907c4c button.colab-df-generate');\n",
              "      buttonEl.style.display =\n",
              "        google.colab.kernel.accessAllowed ? 'block' : 'none';\n",
              "\n",
              "      buttonEl.onclick = () => {\n",
              "        google.colab.notebook.generateWithVariable('test_results');\n",
              "      }\n",
              "      })();\n",
              "    </script>\n",
              "  </div>\n",
              "\n",
              "    </div>\n",
              "  </div>\n"
            ],
            "application/vnd.google.colaboratory.intrinsic+json": {
              "type": "dataframe",
              "variable_name": "test_results",
              "summary": "{\n  \"name\": \"test_results\",\n  \"rows\": 1,\n  \"fields\": [\n    {\n      \"column\": \"Test Error\",\n      \"properties\": {\n        \"dtype\": \"number\",\n        \"std\": null,\n        \"min\": 0.37789203084832906,\n        \"max\": 0.37789203084832906,\n        \"num_unique_values\": 1,\n        \"samples\": [\n          0.37789203084832906\n        ],\n        \"semantic_type\": \"\",\n        \"description\": \"\"\n      }\n    },\n    {\n      \"column\": \"Test Loss\",\n      \"properties\": {\n        \"dtype\": \"number\",\n        \"std\": null,\n        \"min\": 1.4277636061926358,\n        \"max\": 1.4277636061926358,\n        \"num_unique_values\": 1,\n        \"samples\": [\n          1.4277636061926358\n        ],\n        \"semantic_type\": \"\",\n        \"description\": \"\"\n      }\n    }\n  ]\n}"
            }
          },
          "metadata": {},
          "execution_count": 52
        }
      ]
    },
    {
      "cell_type": "code",
      "source": [
        "from sklearn.metrics import confusion_matrix, ConfusionMatrixDisplay\n",
        "\n",
        "true_labels = []\n",
        "pred_labels = []\n",
        "chosen_model.eval()\n",
        "\n",
        "with torch.no_grad():\n",
        "    for inputs, labels in test_loader:\n",
        "        outputs = chosen_model(inputs)\n",
        "        _, preds = torch.max(outputs, 1)\n",
        "        true_labels.extend(labels.numpy())\n",
        "        pred_labels.extend(preds.numpy())\n",
        "\n",
        "# Compute confusion matrix\n",
        "cm = confusion_matrix(true_labels, pred_labels, labels=range(len(classes)))\n",
        "cm_df = pd.DataFrame(cm, index=classes, columns=classes)\n",
        "cm_df\n"
      ],
      "metadata": {
        "colab": {
          "base_uri": "https://localhost:8080/",
          "height": 331
        },
        "id": "rEc-zjkkJvxo",
        "outputId": "295e28d3-f549-432b-eb83-1bedcc33f5e7"
      },
      "execution_count": null,
      "outputs": [
        {
          "output_type": "execute_result",
          "data": {
            "text/plain": [
              "     A   B    C    D   E    F    G    H    I\n",
              "A  151   4    5    5   6    7   14    4   21\n",
              "B    1  95    4    1   1   91   10    7    5\n",
              "C    3  14  129    7   2   14   29    6    7\n",
              "D   19   9    6  138   4   17   20    6   14\n",
              "E   32   6    3    7  51   47   10    3   44\n",
              "F    2   6    3    3   0  190    4    6   11\n",
              "G    1   1    1    2   0    1  174   39    5\n",
              "H    1   2    4    1   0    1   66  143    2\n",
              "I    6   1    4    5   0   20   20    2  139"
            ],
            "text/html": [
              "\n",
              "  <div id=\"df-d3a0c7c0-7899-4e0f-b5bc-8dfa5c6ad717\" class=\"colab-df-container\">\n",
              "    <div>\n",
              "<style scoped>\n",
              "    .dataframe tbody tr th:only-of-type {\n",
              "        vertical-align: middle;\n",
              "    }\n",
              "\n",
              "    .dataframe tbody tr th {\n",
              "        vertical-align: top;\n",
              "    }\n",
              "\n",
              "    .dataframe thead th {\n",
              "        text-align: right;\n",
              "    }\n",
              "</style>\n",
              "<table border=\"1\" class=\"dataframe\">\n",
              "  <thead>\n",
              "    <tr style=\"text-align: right;\">\n",
              "      <th></th>\n",
              "      <th>A</th>\n",
              "      <th>B</th>\n",
              "      <th>C</th>\n",
              "      <th>D</th>\n",
              "      <th>E</th>\n",
              "      <th>F</th>\n",
              "      <th>G</th>\n",
              "      <th>H</th>\n",
              "      <th>I</th>\n",
              "    </tr>\n",
              "  </thead>\n",
              "  <tbody>\n",
              "    <tr>\n",
              "      <th>A</th>\n",
              "      <td>151</td>\n",
              "      <td>4</td>\n",
              "      <td>5</td>\n",
              "      <td>5</td>\n",
              "      <td>6</td>\n",
              "      <td>7</td>\n",
              "      <td>14</td>\n",
              "      <td>4</td>\n",
              "      <td>21</td>\n",
              "    </tr>\n",
              "    <tr>\n",
              "      <th>B</th>\n",
              "      <td>1</td>\n",
              "      <td>95</td>\n",
              "      <td>4</td>\n",
              "      <td>1</td>\n",
              "      <td>1</td>\n",
              "      <td>91</td>\n",
              "      <td>10</td>\n",
              "      <td>7</td>\n",
              "      <td>5</td>\n",
              "    </tr>\n",
              "    <tr>\n",
              "      <th>C</th>\n",
              "      <td>3</td>\n",
              "      <td>14</td>\n",
              "      <td>129</td>\n",
              "      <td>7</td>\n",
              "      <td>2</td>\n",
              "      <td>14</td>\n",
              "      <td>29</td>\n",
              "      <td>6</td>\n",
              "      <td>7</td>\n",
              "    </tr>\n",
              "    <tr>\n",
              "      <th>D</th>\n",
              "      <td>19</td>\n",
              "      <td>9</td>\n",
              "      <td>6</td>\n",
              "      <td>138</td>\n",
              "      <td>4</td>\n",
              "      <td>17</td>\n",
              "      <td>20</td>\n",
              "      <td>6</td>\n",
              "      <td>14</td>\n",
              "    </tr>\n",
              "    <tr>\n",
              "      <th>E</th>\n",
              "      <td>32</td>\n",
              "      <td>6</td>\n",
              "      <td>3</td>\n",
              "      <td>7</td>\n",
              "      <td>51</td>\n",
              "      <td>47</td>\n",
              "      <td>10</td>\n",
              "      <td>3</td>\n",
              "      <td>44</td>\n",
              "    </tr>\n",
              "    <tr>\n",
              "      <th>F</th>\n",
              "      <td>2</td>\n",
              "      <td>6</td>\n",
              "      <td>3</td>\n",
              "      <td>3</td>\n",
              "      <td>0</td>\n",
              "      <td>190</td>\n",
              "      <td>4</td>\n",
              "      <td>6</td>\n",
              "      <td>11</td>\n",
              "    </tr>\n",
              "    <tr>\n",
              "      <th>G</th>\n",
              "      <td>1</td>\n",
              "      <td>1</td>\n",
              "      <td>1</td>\n",
              "      <td>2</td>\n",
              "      <td>0</td>\n",
              "      <td>1</td>\n",
              "      <td>174</td>\n",
              "      <td>39</td>\n",
              "      <td>5</td>\n",
              "    </tr>\n",
              "    <tr>\n",
              "      <th>H</th>\n",
              "      <td>1</td>\n",
              "      <td>2</td>\n",
              "      <td>4</td>\n",
              "      <td>1</td>\n",
              "      <td>0</td>\n",
              "      <td>1</td>\n",
              "      <td>66</td>\n",
              "      <td>143</td>\n",
              "      <td>2</td>\n",
              "    </tr>\n",
              "    <tr>\n",
              "      <th>I</th>\n",
              "      <td>6</td>\n",
              "      <td>1</td>\n",
              "      <td>4</td>\n",
              "      <td>5</td>\n",
              "      <td>0</td>\n",
              "      <td>20</td>\n",
              "      <td>20</td>\n",
              "      <td>2</td>\n",
              "      <td>139</td>\n",
              "    </tr>\n",
              "  </tbody>\n",
              "</table>\n",
              "</div>\n",
              "    <div class=\"colab-df-buttons\">\n",
              "\n",
              "  <div class=\"colab-df-container\">\n",
              "    <button class=\"colab-df-convert\" onclick=\"convertToInteractive('df-d3a0c7c0-7899-4e0f-b5bc-8dfa5c6ad717')\"\n",
              "            title=\"Convert this dataframe to an interactive table.\"\n",
              "            style=\"display:none;\">\n",
              "\n",
              "  <svg xmlns=\"http://www.w3.org/2000/svg\" height=\"24px\" viewBox=\"0 -960 960 960\">\n",
              "    <path d=\"M120-120v-720h720v720H120Zm60-500h600v-160H180v160Zm220 220h160v-160H400v160Zm0 220h160v-160H400v160ZM180-400h160v-160H180v160Zm440 0h160v-160H620v160ZM180-180h160v-160H180v160Zm440 0h160v-160H620v160Z\"/>\n",
              "  </svg>\n",
              "    </button>\n",
              "\n",
              "  <style>\n",
              "    .colab-df-container {\n",
              "      display:flex;\n",
              "      gap: 12px;\n",
              "    }\n",
              "\n",
              "    .colab-df-convert {\n",
              "      background-color: #E8F0FE;\n",
              "      border: none;\n",
              "      border-radius: 50%;\n",
              "      cursor: pointer;\n",
              "      display: none;\n",
              "      fill: #1967D2;\n",
              "      height: 32px;\n",
              "      padding: 0 0 0 0;\n",
              "      width: 32px;\n",
              "    }\n",
              "\n",
              "    .colab-df-convert:hover {\n",
              "      background-color: #E2EBFA;\n",
              "      box-shadow: 0px 1px 2px rgba(60, 64, 67, 0.3), 0px 1px 3px 1px rgba(60, 64, 67, 0.15);\n",
              "      fill: #174EA6;\n",
              "    }\n",
              "\n",
              "    .colab-df-buttons div {\n",
              "      margin-bottom: 4px;\n",
              "    }\n",
              "\n",
              "    [theme=dark] .colab-df-convert {\n",
              "      background-color: #3B4455;\n",
              "      fill: #D2E3FC;\n",
              "    }\n",
              "\n",
              "    [theme=dark] .colab-df-convert:hover {\n",
              "      background-color: #434B5C;\n",
              "      box-shadow: 0px 1px 3px 1px rgba(0, 0, 0, 0.15);\n",
              "      filter: drop-shadow(0px 1px 2px rgba(0, 0, 0, 0.3));\n",
              "      fill: #FFFFFF;\n",
              "    }\n",
              "  </style>\n",
              "\n",
              "    <script>\n",
              "      const buttonEl =\n",
              "        document.querySelector('#df-d3a0c7c0-7899-4e0f-b5bc-8dfa5c6ad717 button.colab-df-convert');\n",
              "      buttonEl.style.display =\n",
              "        google.colab.kernel.accessAllowed ? 'block' : 'none';\n",
              "\n",
              "      async function convertToInteractive(key) {\n",
              "        const element = document.querySelector('#df-d3a0c7c0-7899-4e0f-b5bc-8dfa5c6ad717');\n",
              "        const dataTable =\n",
              "          await google.colab.kernel.invokeFunction('convertToInteractive',\n",
              "                                                    [key], {});\n",
              "        if (!dataTable) return;\n",
              "\n",
              "        const docLinkHtml = 'Like what you see? Visit the ' +\n",
              "          '<a target=\"_blank\" href=https://colab.research.google.com/notebooks/data_table.ipynb>data table notebook</a>'\n",
              "          + ' to learn more about interactive tables.';\n",
              "        element.innerHTML = '';\n",
              "        dataTable['output_type'] = 'display_data';\n",
              "        await google.colab.output.renderOutput(dataTable, element);\n",
              "        const docLink = document.createElement('div');\n",
              "        docLink.innerHTML = docLinkHtml;\n",
              "        element.appendChild(docLink);\n",
              "      }\n",
              "    </script>\n",
              "  </div>\n",
              "\n",
              "\n",
              "<div id=\"df-a1bce71f-1d2a-4356-a7f2-fa8359843095\">\n",
              "  <button class=\"colab-df-quickchart\" onclick=\"quickchart('df-a1bce71f-1d2a-4356-a7f2-fa8359843095')\"\n",
              "            title=\"Suggest charts\"\n",
              "            style=\"display:none;\">\n",
              "\n",
              "<svg xmlns=\"http://www.w3.org/2000/svg\" height=\"24px\"viewBox=\"0 0 24 24\"\n",
              "     width=\"24px\">\n",
              "    <g>\n",
              "        <path d=\"M19 3H5c-1.1 0-2 .9-2 2v14c0 1.1.9 2 2 2h14c1.1 0 2-.9 2-2V5c0-1.1-.9-2-2-2zM9 17H7v-7h2v7zm4 0h-2V7h2v10zm4 0h-2v-4h2v4z\"/>\n",
              "    </g>\n",
              "</svg>\n",
              "  </button>\n",
              "\n",
              "<style>\n",
              "  .colab-df-quickchart {\n",
              "      --bg-color: #E8F0FE;\n",
              "      --fill-color: #1967D2;\n",
              "      --hover-bg-color: #E2EBFA;\n",
              "      --hover-fill-color: #174EA6;\n",
              "      --disabled-fill-color: #AAA;\n",
              "      --disabled-bg-color: #DDD;\n",
              "  }\n",
              "\n",
              "  [theme=dark] .colab-df-quickchart {\n",
              "      --bg-color: #3B4455;\n",
              "      --fill-color: #D2E3FC;\n",
              "      --hover-bg-color: #434B5C;\n",
              "      --hover-fill-color: #FFFFFF;\n",
              "      --disabled-bg-color: #3B4455;\n",
              "      --disabled-fill-color: #666;\n",
              "  }\n",
              "\n",
              "  .colab-df-quickchart {\n",
              "    background-color: var(--bg-color);\n",
              "    border: none;\n",
              "    border-radius: 50%;\n",
              "    cursor: pointer;\n",
              "    display: none;\n",
              "    fill: var(--fill-color);\n",
              "    height: 32px;\n",
              "    padding: 0;\n",
              "    width: 32px;\n",
              "  }\n",
              "\n",
              "  .colab-df-quickchart:hover {\n",
              "    background-color: var(--hover-bg-color);\n",
              "    box-shadow: 0 1px 2px rgba(60, 64, 67, 0.3), 0 1px 3px 1px rgba(60, 64, 67, 0.15);\n",
              "    fill: var(--button-hover-fill-color);\n",
              "  }\n",
              "\n",
              "  .colab-df-quickchart-complete:disabled,\n",
              "  .colab-df-quickchart-complete:disabled:hover {\n",
              "    background-color: var(--disabled-bg-color);\n",
              "    fill: var(--disabled-fill-color);\n",
              "    box-shadow: none;\n",
              "  }\n",
              "\n",
              "  .colab-df-spinner {\n",
              "    border: 2px solid var(--fill-color);\n",
              "    border-color: transparent;\n",
              "    border-bottom-color: var(--fill-color);\n",
              "    animation:\n",
              "      spin 1s steps(1) infinite;\n",
              "  }\n",
              "\n",
              "  @keyframes spin {\n",
              "    0% {\n",
              "      border-color: transparent;\n",
              "      border-bottom-color: var(--fill-color);\n",
              "      border-left-color: var(--fill-color);\n",
              "    }\n",
              "    20% {\n",
              "      border-color: transparent;\n",
              "      border-left-color: var(--fill-color);\n",
              "      border-top-color: var(--fill-color);\n",
              "    }\n",
              "    30% {\n",
              "      border-color: transparent;\n",
              "      border-left-color: var(--fill-color);\n",
              "      border-top-color: var(--fill-color);\n",
              "      border-right-color: var(--fill-color);\n",
              "    }\n",
              "    40% {\n",
              "      border-color: transparent;\n",
              "      border-right-color: var(--fill-color);\n",
              "      border-top-color: var(--fill-color);\n",
              "    }\n",
              "    60% {\n",
              "      border-color: transparent;\n",
              "      border-right-color: var(--fill-color);\n",
              "    }\n",
              "    80% {\n",
              "      border-color: transparent;\n",
              "      border-right-color: var(--fill-color);\n",
              "      border-bottom-color: var(--fill-color);\n",
              "    }\n",
              "    90% {\n",
              "      border-color: transparent;\n",
              "      border-bottom-color: var(--fill-color);\n",
              "    }\n",
              "  }\n",
              "</style>\n",
              "\n",
              "  <script>\n",
              "    async function quickchart(key) {\n",
              "      const quickchartButtonEl =\n",
              "        document.querySelector('#' + key + ' button');\n",
              "      quickchartButtonEl.disabled = true;  // To prevent multiple clicks.\n",
              "      quickchartButtonEl.classList.add('colab-df-spinner');\n",
              "      try {\n",
              "        const charts = await google.colab.kernel.invokeFunction(\n",
              "            'suggestCharts', [key], {});\n",
              "      } catch (error) {\n",
              "        console.error('Error during call to suggestCharts:', error);\n",
              "      }\n",
              "      quickchartButtonEl.classList.remove('colab-df-spinner');\n",
              "      quickchartButtonEl.classList.add('colab-df-quickchart-complete');\n",
              "    }\n",
              "    (() => {\n",
              "      let quickchartButtonEl =\n",
              "        document.querySelector('#df-a1bce71f-1d2a-4356-a7f2-fa8359843095 button');\n",
              "      quickchartButtonEl.style.display =\n",
              "        google.colab.kernel.accessAllowed ? 'block' : 'none';\n",
              "    })();\n",
              "  </script>\n",
              "</div>\n",
              "\n",
              "  <div id=\"id_6587d362-400a-42cd-ac83-ca1123254fa1\">\n",
              "    <style>\n",
              "      .colab-df-generate {\n",
              "        background-color: #E8F0FE;\n",
              "        border: none;\n",
              "        border-radius: 50%;\n",
              "        cursor: pointer;\n",
              "        display: none;\n",
              "        fill: #1967D2;\n",
              "        height: 32px;\n",
              "        padding: 0 0 0 0;\n",
              "        width: 32px;\n",
              "      }\n",
              "\n",
              "      .colab-df-generate:hover {\n",
              "        background-color: #E2EBFA;\n",
              "        box-shadow: 0px 1px 2px rgba(60, 64, 67, 0.3), 0px 1px 3px 1px rgba(60, 64, 67, 0.15);\n",
              "        fill: #174EA6;\n",
              "      }\n",
              "\n",
              "      [theme=dark] .colab-df-generate {\n",
              "        background-color: #3B4455;\n",
              "        fill: #D2E3FC;\n",
              "      }\n",
              "\n",
              "      [theme=dark] .colab-df-generate:hover {\n",
              "        background-color: #434B5C;\n",
              "        box-shadow: 0px 1px 3px 1px rgba(0, 0, 0, 0.15);\n",
              "        filter: drop-shadow(0px 1px 2px rgba(0, 0, 0, 0.3));\n",
              "        fill: #FFFFFF;\n",
              "      }\n",
              "    </style>\n",
              "    <button class=\"colab-df-generate\" onclick=\"generateWithVariable('cm_df')\"\n",
              "            title=\"Generate code using this dataframe.\"\n",
              "            style=\"display:none;\">\n",
              "\n",
              "  <svg xmlns=\"http://www.w3.org/2000/svg\" height=\"24px\"viewBox=\"0 0 24 24\"\n",
              "       width=\"24px\">\n",
              "    <path d=\"M7,19H8.4L18.45,9,17,7.55,7,17.6ZM5,21V16.75L18.45,3.32a2,2,0,0,1,2.83,0l1.4,1.43a1.91,1.91,0,0,1,.58,1.4,1.91,1.91,0,0,1-.58,1.4L9.25,21ZM18.45,9,17,7.55Zm-12,3A5.31,5.31,0,0,0,4.9,8.1,5.31,5.31,0,0,0,1,6.5,5.31,5.31,0,0,0,4.9,4.9,5.31,5.31,0,0,0,6.5,1,5.31,5.31,0,0,0,8.1,4.9,5.31,5.31,0,0,0,12,6.5,5.46,5.46,0,0,0,6.5,12Z\"/>\n",
              "  </svg>\n",
              "    </button>\n",
              "    <script>\n",
              "      (() => {\n",
              "      const buttonEl =\n",
              "        document.querySelector('#id_6587d362-400a-42cd-ac83-ca1123254fa1 button.colab-df-generate');\n",
              "      buttonEl.style.display =\n",
              "        google.colab.kernel.accessAllowed ? 'block' : 'none';\n",
              "\n",
              "      buttonEl.onclick = () => {\n",
              "        google.colab.notebook.generateWithVariable('cm_df');\n",
              "      }\n",
              "      })();\n",
              "    </script>\n",
              "  </div>\n",
              "\n",
              "    </div>\n",
              "  </div>\n"
            ],
            "application/vnd.google.colaboratory.intrinsic+json": {
              "type": "dataframe",
              "variable_name": "cm_df",
              "summary": "{\n  \"name\": \"cm_df\",\n  \"rows\": 9,\n  \"fields\": [\n    {\n      \"column\": \"A\",\n      \"properties\": {\n        \"dtype\": \"number\",\n        \"std\": 48,\n        \"min\": 1,\n        \"max\": 151,\n        \"num_unique_values\": 7,\n        \"samples\": [\n          151,\n          1,\n          2\n        ],\n        \"semantic_type\": \"\",\n        \"description\": \"\"\n      }\n    },\n    {\n      \"column\": \"B\",\n      \"properties\": {\n        \"dtype\": \"number\",\n        \"std\": 30,\n        \"min\": 1,\n        \"max\": 95,\n        \"num_unique_values\": 7,\n        \"samples\": [\n          4,\n          95,\n          1\n        ],\n        \"semantic_type\": \"\",\n        \"description\": \"\"\n      }\n    },\n    {\n      \"column\": \"C\",\n      \"properties\": {\n        \"dtype\": \"number\",\n        \"std\": 41,\n        \"min\": 1,\n        \"max\": 129,\n        \"num_unique_values\": 6,\n        \"samples\": [\n          5,\n          4,\n          1\n        ],\n        \"semantic_type\": \"\",\n        \"description\": \"\"\n      }\n    },\n    {\n      \"column\": \"D\",\n      \"properties\": {\n        \"dtype\": \"number\",\n        \"std\": 44,\n        \"min\": 1,\n        \"max\": 138,\n        \"num_unique_values\": 6,\n        \"samples\": [\n          5,\n          1,\n          2\n        ],\n        \"semantic_type\": \"\",\n        \"description\": \"\"\n      }\n    },\n    {\n      \"column\": \"E\",\n      \"properties\": {\n        \"dtype\": \"number\",\n        \"std\": 16,\n        \"min\": 0,\n        \"max\": 51,\n        \"num_unique_values\": 6,\n        \"samples\": [\n          6,\n          1,\n          0\n        ],\n        \"semantic_type\": \"\",\n        \"description\": \"\"\n      }\n    },\n    {\n      \"column\": \"F\",\n      \"properties\": {\n        \"dtype\": \"number\",\n        \"std\": 62,\n        \"min\": 1,\n        \"max\": 190,\n        \"num_unique_values\": 8,\n        \"samples\": [\n          91,\n          190,\n          7\n        ],\n        \"semantic_type\": \"\",\n        \"description\": \"\"\n      }\n    },\n    {\n      \"column\": \"G\",\n      \"properties\": {\n        \"dtype\": \"number\",\n        \"std\": 53,\n        \"min\": 4,\n        \"max\": 174,\n        \"num_unique_values\": 7,\n        \"samples\": [\n          14,\n          10,\n          174\n        ],\n        \"semantic_type\": \"\",\n        \"description\": \"\"\n      }\n    },\n    {\n      \"column\": \"H\",\n      \"properties\": {\n        \"dtype\": \"number\",\n        \"std\": 46,\n        \"min\": 2,\n        \"max\": 143,\n        \"num_unique_values\": 7,\n        \"samples\": [\n          4,\n          7,\n          143\n        ],\n        \"semantic_type\": \"\",\n        \"description\": \"\"\n      }\n    },\n    {\n      \"column\": \"I\",\n      \"properties\": {\n        \"dtype\": \"number\",\n        \"std\": 43,\n        \"min\": 2,\n        \"max\": 139,\n        \"num_unique_values\": 8,\n        \"samples\": [\n          5,\n          11,\n          21\n        ],\n        \"semantic_type\": \"\",\n        \"description\": \"\"\n      }\n    }\n  ]\n}"
            }
          },
          "metadata": {},
          "execution_count": 58
        }
      ]
    },
    {
      "cell_type": "code",
      "execution_count": null,
      "metadata": {
        "id": "C6R_NNH_bOyN",
        "colab": {
          "base_uri": "https://localhost:8080/",
          "height": 36
        },
        "outputId": "24983620-61f6-40e7-97ee-7f60904be50a"
      },
      "outputs": [
        {
          "output_type": "execute_result",
          "data": {
            "text/plain": [
              "'\\n\\nPROVIDE YOUR ANSWER BELOW\\nDiagonal Sum: 151 + 91 + 129 + 138 + 51 + 190 + 174 + 143 + 139 = 1206\\nTotal sample: 1945\\nAccuracy: 1206/1945 = 62.1%\\nThe test error rate is 37.8%\\n\\n'"
            ],
            "application/vnd.google.colaboratory.intrinsic+json": {
              "type": "string"
            }
          },
          "metadata": {},
          "execution_count": 61
        }
      ],
      "source": [
        "'''\n",
        "PROVIDE YOUR ANSWER BELOW\n",
        "\n",
        "Diagonal sum of the confusion matrix: 151 + 91 + 129 + 138 + 51 + 190 + 174 + 143 + 139 = 1206\n",
        "Total sample: 1945\n",
        "Accuracy: 1206/1945 = 62.1%\n",
        "The test error rate is 37.8%\n",
        "\n",
        "'''"
      ]
    },
    {
      "cell_type": "markdown",
      "metadata": {
        "id": "Wrem-iXV6_Bz"
      },
      "source": [
        "## Part 4. Transfer Learning [8pt]\n",
        "For many image classification tasks, it is generally not a good idea to train a very large deep neural network\n",
        "model from scratch due to the enormous compute requirements and lack of sufficient amounts of training\n",
        "data.\n",
        "\n",
        "One of the better options is to try using an existing model that performs a similar task to the one you need\n",
        "to solve. This method of utilizing a pre-trained network for other similar tasks is broadly termed **Transfer\n",
        "Learning**. In this assignment, we will use Transfer Learning to extract features from the hand gesture\n",
        "images. Then, train a smaller network to use these features as input and classify the hand gestures.\n",
        "\n",
        "As you have learned from the CNN lecture, convolution layers extract various features from the images which\n",
        "get utilized by the fully connected layers for correct classification. AlexNet architecture played a pivotal\n",
        "role in establishing Deep Neural Nets as a go-to tool for image classification problems and we will use an\n",
        "ImageNet pre-trained AlexNet model to extract features in this assignment."
      ]
    },
    {
      "cell_type": "markdown",
      "metadata": {
        "id": "rWdQJz4Q7O2F"
      },
      "source": [
        "### Part (i) - [1pt EXPLORATORY]\n",
        "Here is the code to load the AlexNet network, with pretrained weights. When you first run the code, PyTorch\n",
        "will download the pretrained weights from the internet."
      ]
    },
    {
      "cell_type": "code",
      "execution_count": 61,
      "metadata": {
        "id": "BJKcTW9C7TZk",
        "colab": {
          "base_uri": "https://localhost:8080/"
        },
        "outputId": "c5e1b994-a3f5-4ae7-ea99-8b19726d3fe8"
      },
      "outputs": [
        {
          "output_type": "stream",
          "name": "stderr",
          "text": [
            "/usr/local/lib/python3.11/dist-packages/torchvision/models/_utils.py:208: UserWarning: The parameter 'pretrained' is deprecated since 0.13 and may be removed in the future, please use 'weights' instead.\n",
            "  warnings.warn(\n",
            "/usr/local/lib/python3.11/dist-packages/torchvision/models/_utils.py:223: UserWarning: Arguments other than a weight enum or `None` for 'weights' are deprecated since 0.13 and may be removed in the future. The current behavior is equivalent to passing `weights=AlexNet_Weights.IMAGENET1K_V1`. You can also use `weights=AlexNet_Weights.DEFAULT` to get the most up-to-date weights.\n",
            "  warnings.warn(msg)\n"
          ]
        }
      ],
      "source": [
        "import torchvision.models\n",
        "alexnet = torchvision.models.alexnet(pretrained=True)"
      ]
    },
    {
      "cell_type": "markdown",
      "metadata": {
        "id": "NQ0GZYaP7VAR"
      },
      "source": [
        "The alexnet model is split up into two components: *alexnet.features* and *alexnet.classifier*. The\n",
        "first neural network component, *alexnet.features*, is used to compute convolutional features, which are\n",
        "taken as input in *alexnet.classifier*.\n",
        "\n",
        "The neural network alexnet.features expects an image tensor of shape Nx3x224x224 as input and it will\n",
        "output a tensor of shape Nx256x6x6 . (N = batch size).\n",
        "\n",
        "Compute the AlexNet features for each of your training, validation, and test data. Here is an example code\n",
        "snippet showing how you can compute the AlexNet features for some images (your actual code might be\n",
        "different):"
      ]
    },
    {
      "cell_type": "code",
      "source": [
        "# # img = ... a PyTorch tensor with shape [N,3,224,224] containing hand images ...\n",
        "# features = alexnet.features(img)"
      ],
      "metadata": {
        "id": "qls2F_FzSlvK"
      },
      "execution_count": null,
      "outputs": []
    },
    {
      "cell_type": "markdown",
      "metadata": {
        "id": "DYcjHg_A7cCM"
      },
      "source": [
        "**Save the computed features**. You will be using these features as input to your neural network in Part\n",
        "(ii), and you do not want to re-compute the features every time. Instead, run *alexnet.features* once for\n",
        "each image, and save the result."
      ]
    },
    {
      "cell_type": "code",
      "source": [
        "# Define a new function for training, testing and validation data loading (include normalization for AlexNet use in the next steps)\n",
        "def get_data_loader_2(data_dir, batch_size, seed=12):\n",
        "\n",
        "    # Define transformations\n",
        "    transform = transform = transforms.Compose([transforms.Resize((224,224)), transforms.ToTensor()])\n",
        "\n",
        "    # Load the full dataset\n",
        "    dataset = datasets.ImageFolder(data_dir, transform=transform)\n",
        "    classes = dataset.classes  # Get class names\n",
        "    transforms.Normalize((0.5, 0.5, 0.5), (0.5, 0.5, 0.5))  # Normalize for 3 channels\n",
        "\n",
        "    # Split the dataset\n",
        "    total_size = len(dataset)\n",
        "    test_size = int(0.8 * total_size)\n",
        "    valid_size = int(0.1 * len(dataset))\n",
        "    train_size = total_size - test_size - valid_size\n",
        "    train_dataset, val_dataset, test_dataset = random_split(dataset, [train_size, valid_size, test_size])\n",
        "\n",
        "    # Create DataLoaders\n",
        "    train_loader = DataLoader(train_dataset, batch_size=batch_size, shuffle=True, num_workers=2)\n",
        "    val_loader = DataLoader(val_dataset, batch_size=batch_size, shuffle=False, num_workers=2)\n",
        "    test_loader = DataLoader(test_dataset, batch_size=batch_size, shuffle=False, num_workers=2)\n",
        "\n",
        "    return train_loader, val_loader, test_loader, classes"
      ],
      "metadata": {
        "id": "DgynqBYJpprR"
      },
      "execution_count": 51,
      "outputs": []
    },
    {
      "cell_type": "code",
      "source": [
        "# data_dir = '/content/A2_Hand_Gesture_Dataset_revised/Lab_3b_Gesture_Dataset Revised'\n",
        "# batch_size = 32\n",
        "# train_loader, val_loader, test_loader, classes = get_data_loader_2(data_dir, batch_size)"
      ],
      "metadata": {
        "id": "YvFmpv7YqQkD"
      },
      "execution_count": 59,
      "outputs": []
    },
    {
      "cell_type": "code",
      "source": [
        "# Function to compute features\n",
        "def compute_features(dataloader):\n",
        "    features = []\n",
        "    labels = []\n",
        "\n",
        "    with torch.no_grad():  # Disable gradients\n",
        "        for images, target in dataloader:\n",
        "            output = alexnet.features(images)\n",
        "            features.append(output)\n",
        "            labels.append(target)\n",
        "\n",
        "    features = torch.cat(features, dim=0)\n",
        "    labels = torch.cat(labels, dim=0)\n",
        "\n",
        "    return features, labels"
      ],
      "metadata": {
        "id": "2ODo1pmoqkk0"
      },
      "execution_count": 62,
      "outputs": []
    },
    {
      "cell_type": "code",
      "source": [
        "# train_features, train_labels = compute_features(train_loader)\n",
        "# val_features, val_labels = compute_features(val_loader)\n",
        "# test_features, test_labels = compute_features(test_loader)"
      ],
      "metadata": {
        "id": "pmJEQGG3qupe"
      },
      "execution_count": 64,
      "outputs": []
    },
    {
      "cell_type": "code",
      "source": [
        "# print(\"Train Features Shape:\", train_features.shape)\n",
        "# print(\"Validation Features Shape:\", val_features.shape)\n",
        "# print(\"Test Features Shape:\", test_features.shape)"
      ],
      "metadata": {
        "colab": {
          "base_uri": "https://localhost:8080/"
        },
        "id": "_b4ueTxerdN6",
        "outputId": "bea1a2b9-6cf7-4298-8e0d-5cc61e7ce275"
      },
      "execution_count": 15,
      "outputs": [
        {
          "output_type": "stream",
          "name": "stdout",
          "text": [
            "Train Features Shape: torch.Size([244, 256, 6, 6])\n",
            "Validation Features Shape: torch.Size([243, 256, 6, 6])\n",
            "Test Features Shape: torch.Size([1945, 256, 6, 6])\n"
          ]
        }
      ]
    },
    {
      "cell_type": "code",
      "source": [
        "# Fixed PyTorch random seed for reproducible results\n",
        "torch.manual_seed(1000)\n",
        "data_dir = '/content/A2_Hand_Gesture_Dataset_revised/Lab_3b_Gesture_Dataset Revised'\n",
        "train_loader, val_loader, test_loader, classes = get_data_loader_2(data_dir, 1)\n",
        "\n",
        "train_features, train_labels = compute_features(train_loader)\n",
        "val_features, val_labels = compute_features(val_loader)\n",
        "test_features, test_labels = compute_features(test_loader)\n",
        "\n",
        "# Convert the features and labels to PyTorch tensors\n",
        "train_dataset = TensorDataset(train_features, train_labels)\n",
        "val_dataset = TensorDataset(val_features, val_labels)\n",
        "test_dataset = TensorDataset(test_features, test_labels)\n",
        "\n",
        "train_loader = DataLoader(train_dataset, batch_size=batch_size, shuffle=True)\n",
        "val_loader = DataLoader(val_dataset, batch_size=batch_size, shuffle=False)\n",
        "test_loader = DataLoader(test_dataset, batch_size=batch_size, shuffle=False)"
      ],
      "metadata": {
        "id": "ZjB4FR63G4s7"
      },
      "execution_count": 68,
      "outputs": []
    },
    {
      "cell_type": "markdown",
      "metadata": {
        "id": "OFWvvhFN73qY"
      },
      "source": [
        "### Part (ii) - [1pt MODEL]\n",
        "Build a convolutional neural network that takes as input these AlexNet features, and makes a prediction using additional convolutional and/or linear layers. Your model should be a subclass of nn.Module.\n",
        "\n",
        "Explain your choice of neural network architecture: how many layers did you choose? What types of layers\n",
        "did you use: fully-connected or convolutional? What about other decisions like pooling layers, activation\n",
        "functions, number of channels / hidden units in each layer?\n",
        "\n",
        "Here is an example of how your model may be called:"
      ]
    },
    {
      "cell_type": "code",
      "execution_count": 83,
      "metadata": {
        "id": "oVTuHUeV78-U"
      },
      "outputs": [],
      "source": [
        "# features = ... load precomputed alexnet.features(img) ...\n",
        "# output = model(features)\n",
        "# prob = F.softmax(output)"
      ]
    },
    {
      "cell_type": "code",
      "source": [
        "# train_loader = DataLoader(train_dataset, batch_size=batch_size, shuffle=True)\n",
        "# val_loader = DataLoader(val_dataset, batch_size=batch_size, shuffle=False)\n",
        "# test_loader = DataLoader(test_dataset, batch_size=batch_size, shuffle=False)"
      ],
      "metadata": {
        "id": "-rBpt2PuFFhC"
      },
      "execution_count": null,
      "outputs": []
    },
    {
      "cell_type": "code",
      "execution_count": 69,
      "metadata": {
        "id": "k0fiyAZVbapt"
      },
      "outputs": [],
      "source": [
        "# Build a convolutional neural network\n",
        "import torch\n",
        "import torch.nn as nn\n",
        "import torch.nn.functional as F\n",
        "\n",
        "class Alexnn (nn.Module):\n",
        "  def __init__(self):\n",
        "    super(Alexnn, self).__init__()\n",
        "    self.name = \"Alexnn\"\n",
        "    self.conv1 = nn.Conv2d(in_channels=256, out_channels=128, kernel_size=3, stride=1, padding=1)\n",
        "    self.conv2 = nn.Conv2d(in_channels=128, out_channels=64, kernel_size=3, stride=1, padding=1)\n",
        "    self.pool = nn.MaxPool2d(kernel_size=2, stride=2)\n",
        "    self.fc1 = nn.Linear(64*1*1, 64)\n",
        "    self.fc2 = nn.Linear(64, 9)\n",
        "  def forward(self, x):\n",
        "    x = self.pool(F.relu(self.conv1(x)))\n",
        "    x = self.pool(F.relu(self.conv2(x)))\n",
        "    x = x.view(x.size(0), -1)\n",
        "    x = F.relu(self.fc1(x))\n",
        "    x = self.fc2(x)\n",
        "    return x"
      ]
    },
    {
      "cell_type": "code",
      "execution_count": 27,
      "metadata": {
        "id": "P7FVHuYkbaqF",
        "colab": {
          "base_uri": "https://localhost:8080/",
          "height": 105
        },
        "outputId": "18f5ac4a-ee45-4b4e-cdf6-90670a5a161d"
      },
      "outputs": [
        {
          "output_type": "execute_result",
          "data": {
            "text/plain": [
              "'\\nPROVIDE YOUR ANSWER BELOW\\n\\nThe architecture has 6 layers in total, which includes 2 convolutional layers (conv1 and conv2); 2 fully connected (linear) layers (fc1 and fc2) and\\n2 pooling layers (pool) that is used after both convolutional layers.\\nReLU was chosen for its efficiency and ability to avoid the vanishing gradient problem (It replaces negative values with zeros) common with older activation function.\\n\\nFor conv1, it has 256 channels. This layer decrease the number of feature maps from 256 to 128, enabling it to learn 128 distinct patterns.\\nFor conv2, it has 128 channels. This layer increases the number of feature maps from 128 to 64, enabling it to learn 64 distinct patterns.\\nFor FC1, it connected layer reduces the high-dimensional input from the convolutional layers to 64 hidden units.\\n* The choice of 64 hidden units in fc1 provides a balance between representational power and avoiding overfitting.\\nFor FC2, it connected layer reduces the 64 hidden units to 9 output as there are 9 classes.\\n\\n\\n'"
            ],
            "application/vnd.google.colaboratory.intrinsic+json": {
              "type": "string"
            }
          },
          "metadata": {},
          "execution_count": 27
        }
      ],
      "source": [
        "'''\n",
        "PROVIDE YOUR ANSWER BELOW\n",
        "\n",
        "The architecture has 6 layers in total, which includes 2 convolutional layers (conv1 and conv2); 2 fully connected (linear) layers (fc1 and fc2) and\n",
        "2 pooling layers (pool) that is used after both convolutional layers.\n",
        "ReLU was chosen for its efficiency and ability to avoid the vanishing gradient problem (It replaces negative values with zeros) common with older activation function.\n",
        "\n",
        "For conv1, it has 256 channels. This layer decrease the number of feature maps from 256 to 128, enabling it to learn 128 distinct patterns.\n",
        "For conv2, it has 128 channels. This layer increases the number of feature maps from 128 to 64, enabling it to learn 64 distinct patterns.\n",
        "For FC1, it connected layer reduces the high-dimensional input from the convolutional layers to 64 hidden units.\n",
        "* The choice of 64 hidden units in fc1 provides a balance between representational power and avoiding overfitting.\n",
        "For FC2, it connected layer reduces the 64 hidden units to 9 output as there are 9 classes.\n",
        "\n",
        "\n",
        "'''"
      ]
    },
    {
      "cell_type": "markdown",
      "metadata": {
        "id": "wVAGuURu7-9q"
      },
      "source": [
        "### Part (iii) - [1pt MODEL]\n",
        "Train your new network, including any hyperparameter tuning. Plot and submit the training curve of your\n",
        "best model only.\n",
        "\n",
        "Note: Depending on how you are caching (saving) your AlexNet features, PyTorch might still be tracking\n",
        "updates to the **AlexNet weights**, which we are not tuning. One workaround is to convert your AlexNet\n",
        "feature tensor into a numpy array, and then back into a PyTorch tensor."
      ]
    },
    {
      "cell_type": "code",
      "source": [
        "# tensor = torch.from_numpy(tensor.detach().numpy())"
      ],
      "metadata": {
        "id": "GPa-HWVOyJFD"
      },
      "execution_count": 81,
      "outputs": []
    },
    {
      "cell_type": "code",
      "execution_count": 74,
      "metadata": {
        "id": "hbGXEv_9bd6_"
      },
      "outputs": [],
      "source": [
        "# TO BE COMPLETED\n",
        "from torch.utils.data import TensorDataset, DataLoader\n",
        "\n",
        "def train_net_alex(net, batch_size=32, learning_rate=0.01, num_epochs=10):\n",
        "    ########################################################################\n",
        "    # Train a classifier on an 9-class classification problem\n",
        "    target_classes = [\"A\", \"B\", \"C\", \"D\", \"E\", \"F\", \"G\", \"H\", \"I\"]\n",
        "    ########################################################################\n",
        "\n",
        "    # Make sure the classes are as expected\n",
        "    assert len(classes) == 9, \"The dataset should have exactly 9 classes.\"\n",
        "    ########################################################################\n",
        "    # Define the Loss function and optimizer\n",
        "    # Use CrossEntropyLoss for multi-class classification\n",
        "    criterion = nn.CrossEntropyLoss()  # Change to CrossEntropyLoss for multi-class\n",
        "    optimizer = optim.Adam(net.parameters(), lr=0.001)\n",
        "    ########################################################################\n",
        "    # Set up some numpy arrays to store the training/test loss/accuracy\n",
        "    train_err = np.zeros(num_epochs)\n",
        "    train_loss = np.zeros(num_epochs)\n",
        "    val_err = np.zeros(num_epochs)\n",
        "    val_loss = np.zeros(num_epochs)\n",
        "    ########################################################################\n",
        "    # Train the network\n",
        "    # Loop over the data iterator and sample a new batch of training data\n",
        "    # Get the output from the network, and optimize our loss function.\n",
        "    # Each epoch represents one full pass over the training dataset\n",
        "    start_time = time.time()\n",
        "    for epoch in range(num_epochs):  # Loop over the dataset multiple times\n",
        "        total_train_loss = 0.0\n",
        "        total_train_err = 0.0\n",
        "        total_epoch = 0\n",
        "        for i, data in enumerate(train_loader, 0):\n",
        "            inputs, labels = data\n",
        "            optimizer.zero_grad() # This ensures that gradients from the previous batch are not accumulated.\n",
        "\n",
        "            # Forward pass, backward pass, and optimize\n",
        "            outputs = net(inputs)\n",
        "            loss = criterion(outputs, labels)  # No need to normalize labels here for CrossEntropyLoss\n",
        "            loss.backward()\n",
        "            optimizer.step()\n",
        "            # Calculate the statistics\n",
        "            _, predicted = torch.max(outputs, 1)  # Get the class with the highest probability\n",
        "            total_train_err += (predicted != labels).sum().item()  # Count errors\n",
        "            total_train_loss += loss.item()\n",
        "            total_epoch += len(labels)\n",
        "\n",
        "        # Calculate error and loss for the training and validation set\n",
        "        train_err[epoch] = float(total_train_err) / total_epoch\n",
        "        train_loss[epoch] = float(total_train_loss) / (i + 1)\n",
        "        val_err[epoch], val_loss[epoch] = evaluate(net, val_loader, criterion)\n",
        "\n",
        "        # Print stats for the current epoch\n",
        "        print(f\"Epoch {epoch + 1}: Train err: {train_err[epoch]:.4f}, Train loss: {train_loss[epoch]:.4f} | \"f\"Validation err: {val_err[epoch]:.4f}, Validation loss: {val_loss[epoch]:.4f}\")\n",
        "\n",
        "        # Save the current model (checkpoint) to a file\n",
        "        model_path = get_model_name(net.name, batch_size, learning_rate, epoch)\n",
        "        torch.save(net.state_dict(), model_path)\n",
        "\n",
        "    print('Finished Training')\n",
        "    end_time = time.time()\n",
        "    elapsed_time = end_time - start_time\n",
        "    print(f\"Total time elapsed: {elapsed_time:.2f} seconds\")\n",
        "\n",
        "    # Write the train/test loss/error into CSV files for plotting later\n",
        "    epochs = np.arange(1, num_epochs + 1)\n",
        "    np.savetxt(f\"{model_path}_train_err.csv\", train_err)\n",
        "    np.savetxt(f\"{model_path}_train_loss.csv\", train_loss)\n",
        "    np.savetxt(f\"{model_path}_val_err.csv\", val_err)\n",
        "    np.savetxt(f\"{model_path}_val_loss.csv\", val_loss)\n",
        "\n",
        "\n"
      ]
    },
    {
      "cell_type": "code",
      "source": [
        "alexnn = Alexnn()\n",
        "train_net_alex(alexnn, batch_size=32, learning_rate=0.01, num_epochs=10)"
      ],
      "metadata": {
        "colab": {
          "base_uri": "https://localhost:8080/"
        },
        "id": "CEpP9ut_0qbA",
        "outputId": "9dde1c1e-e1e0-4dc0-d705-94168fb6b118"
      },
      "execution_count": 71,
      "outputs": [
        {
          "output_type": "stream",
          "name": "stdout",
          "text": [
            "Epoch 1: Train err: 0.7992, Train loss: 2.0672 | Validation err: 0.8189, Validation loss: 1.9333\n",
            "Epoch 2: Train err: 0.6557, Train loss: 1.5816 | Validation err: 0.6831, Validation loss: 1.5452\n",
            "Epoch 3: Train err: 0.4754, Train loss: 1.2372 | Validation err: 0.4321, Validation loss: 1.1810\n",
            "Epoch 4: Train err: 0.2828, Train loss: 0.8763 | Validation err: 0.2840, Validation loss: 0.9448\n",
            "Epoch 5: Train err: 0.1721, Train loss: 0.5948 | Validation err: 0.2881, Validation loss: 0.7715\n",
            "Epoch 6: Train err: 0.1352, Train loss: 0.4190 | Validation err: 0.1934, Validation loss: 0.6633\n",
            "Epoch 7: Train err: 0.0738, Train loss: 0.2830 | Validation err: 0.2387, Validation loss: 0.6683\n",
            "Epoch 8: Train err: 0.0369, Train loss: 0.1812 | Validation err: 0.1523, Validation loss: 0.5607\n",
            "Epoch 9: Train err: 0.0205, Train loss: 0.1154 | Validation err: 0.1934, Validation loss: 0.6205\n",
            "Epoch 10: Train err: 0.0164, Train loss: 0.0775 | Validation err: 0.1728, Validation loss: 0.5911\n",
            "Finished Training\n",
            "Total time elapsed: 5.15 seconds\n"
          ]
        }
      ]
    },
    {
      "cell_type": "code",
      "source": [
        "alexnn = Alexnn()\n",
        "train_net_alex(alexnn, batch_size=64, learning_rate=0.01, num_epochs=10)"
      ],
      "metadata": {
        "id": "A2_WiTPeGkij",
        "outputId": "aa1d5231-0bca-43ec-8b47-0a2abd5fd421",
        "colab": {
          "base_uri": "https://localhost:8080/"
        }
      },
      "execution_count": 72,
      "outputs": [
        {
          "output_type": "stream",
          "name": "stdout",
          "text": [
            "Epoch 1: Train err: 0.7910, Train loss: 2.1217 | Validation err: 0.7490, Validation loss: 1.9847\n",
            "Epoch 2: Train err: 0.6148, Train loss: 1.7284 | Validation err: 0.6708, Validation loss: 1.6225\n",
            "Epoch 3: Train err: 0.4754, Train loss: 1.2941 | Validation err: 0.3909, Validation loss: 1.2195\n",
            "Epoch 4: Train err: 0.2746, Train loss: 0.9271 | Validation err: 0.4362, Validation loss: 1.1939\n",
            "Epoch 5: Train err: 0.2049, Train loss: 0.6829 | Validation err: 0.2551, Validation loss: 0.7587\n",
            "Epoch 6: Train err: 0.1557, Train loss: 0.4624 | Validation err: 0.2305, Validation loss: 0.7164\n",
            "Epoch 7: Train err: 0.0574, Train loss: 0.2933 | Validation err: 0.1975, Validation loss: 0.6136\n",
            "Epoch 8: Train err: 0.0574, Train loss: 0.2250 | Validation err: 0.1893, Validation loss: 0.5760\n",
            "Epoch 9: Train err: 0.0328, Train loss: 0.1655 | Validation err: 0.1646, Validation loss: 0.5534\n",
            "Epoch 10: Train err: 0.0205, Train loss: 0.1092 | Validation err: 0.1687, Validation loss: 0.5389\n",
            "Finished Training\n",
            "Total time elapsed: 3.74 seconds\n"
          ]
        }
      ]
    },
    {
      "cell_type": "code",
      "source": [
        "alexnn = Alexnn()\n",
        "train_net_alex(alexnn, batch_size=128, learning_rate=0.01, num_epochs=10)"
      ],
      "metadata": {
        "id": "A_dpc0_YHpah",
        "outputId": "103eae6d-8241-4aae-ca00-0d1ca95b1f92",
        "colab": {
          "base_uri": "https://localhost:8080/"
        }
      },
      "execution_count": 73,
      "outputs": [
        {
          "output_type": "stream",
          "name": "stdout",
          "text": [
            "Epoch 1: Train err: 0.7992, Train loss: 2.1063 | Validation err: 0.6543, Validation loss: 1.9307\n",
            "Epoch 2: Train err: 0.5041, Train loss: 1.6222 | Validation err: 0.3951, Validation loss: 1.4017\n",
            "Epoch 3: Train err: 0.2500, Train loss: 1.0684 | Validation err: 0.2881, Validation loss: 0.9595\n",
            "Epoch 4: Train err: 0.2664, Train loss: 0.7846 | Validation err: 0.2551, Validation loss: 0.7903\n",
            "Epoch 5: Train err: 0.1557, Train loss: 0.5646 | Validation err: 0.3045, Validation loss: 0.8260\n",
            "Epoch 6: Train err: 0.1189, Train loss: 0.3861 | Validation err: 0.1564, Validation loss: 0.5463\n",
            "Epoch 7: Train err: 0.0369, Train loss: 0.2426 | Validation err: 0.1728, Validation loss: 0.6152\n",
            "Epoch 8: Train err: 0.0205, Train loss: 0.1542 | Validation err: 0.1399, Validation loss: 0.4945\n",
            "Epoch 9: Train err: 0.0205, Train loss: 0.0991 | Validation err: 0.1687, Validation loss: 0.5437\n",
            "Epoch 10: Train err: 0.0041, Train loss: 0.0685 | Validation err: 0.1523, Validation loss: 0.5159\n",
            "Finished Training\n",
            "Total time elapsed: 6.58 seconds\n"
          ]
        }
      ]
    },
    {
      "cell_type": "code",
      "source": [
        "alexnn = Alexnn()\n",
        "train_net_alex(alexnn, batch_size=16, learning_rate=0.01, num_epochs=10)"
      ],
      "metadata": {
        "id": "swQRfHfmHuN7",
        "outputId": "2044a091-e222-4b07-ffa8-bffdbcad4b3e",
        "colab": {
          "base_uri": "https://localhost:8080/"
        }
      },
      "execution_count": 75,
      "outputs": [
        {
          "output_type": "stream",
          "name": "stdout",
          "text": [
            "Epoch 1: Train err: 0.8689, Train loss: 2.1391 | Validation err: 0.7984, Validation loss: 2.0596\n",
            "Epoch 2: Train err: 0.5902, Train loss: 1.7256 | Validation err: 0.5432, Validation loss: 1.6291\n",
            "Epoch 3: Train err: 0.4016, Train loss: 1.2836 | Validation err: 0.5185, Validation loss: 1.3571\n",
            "Epoch 4: Train err: 0.2623, Train loss: 0.9059 | Validation err: 0.4198, Validation loss: 1.0254\n",
            "Epoch 5: Train err: 0.2131, Train loss: 0.6684 | Validation err: 0.2510, Validation loss: 0.7078\n",
            "Epoch 6: Train err: 0.1270, Train loss: 0.4424 | Validation err: 0.1934, Validation loss: 0.5933\n",
            "Epoch 7: Train err: 0.0615, Train loss: 0.2658 | Validation err: 0.1811, Validation loss: 0.5755\n",
            "Epoch 8: Train err: 0.0164, Train loss: 0.1704 | Validation err: 0.1646, Validation loss: 0.4928\n",
            "Epoch 9: Train err: 0.0123, Train loss: 0.1059 | Validation err: 0.1440, Validation loss: 0.6030\n",
            "Epoch 10: Train err: 0.0041, Train loss: 0.0632 | Validation err: 0.1646, Validation loss: 0.5002\n",
            "Finished Training\n",
            "Total time elapsed: 4.90 seconds\n"
          ]
        }
      ]
    },
    {
      "cell_type": "code",
      "source": [
        "alexnn = Alexnn()\n",
        "train_net_alex(alexnn, batch_size=16, learning_rate=0.1, num_epochs=10)"
      ],
      "metadata": {
        "id": "0PyCa4vJH3jV",
        "outputId": "b8c89c59-9581-4f77-bc1b-a65dba5968cc",
        "colab": {
          "base_uri": "https://localhost:8080/"
        }
      },
      "execution_count": 77,
      "outputs": [
        {
          "output_type": "stream",
          "name": "stdout",
          "text": [
            "Epoch 1: Train err: 0.7869, Train loss: 2.1499 | Validation err: 0.7901, Validation loss: 2.0625\n",
            "Epoch 2: Train err: 0.6311, Train loss: 1.7714 | Validation err: 0.6996, Validation loss: 1.8521\n",
            "Epoch 3: Train err: 0.5697, Train loss: 1.3666 | Validation err: 0.4486, Validation loss: 1.2650\n",
            "Epoch 4: Train err: 0.2418, Train loss: 0.8940 | Validation err: 0.2428, Validation loss: 0.9186\n",
            "Epoch 5: Train err: 0.1844, Train loss: 0.5513 | Validation err: 0.3169, Validation loss: 0.9388\n",
            "Epoch 6: Train err: 0.1230, Train loss: 0.3642 | Validation err: 0.1852, Validation loss: 0.6324\n",
            "Epoch 7: Train err: 0.0779, Train loss: 0.2577 | Validation err: 0.2222, Validation loss: 0.7644\n",
            "Epoch 8: Train err: 0.0369, Train loss: 0.1708 | Validation err: 0.2222, Validation loss: 0.7121\n",
            "Epoch 9: Train err: 0.0164, Train loss: 0.1255 | Validation err: 0.1728, Validation loss: 0.5985\n",
            "Epoch 10: Train err: 0.0123, Train loss: 0.0878 | Validation err: 0.1687, Validation loss: 0.6748\n",
            "Finished Training\n",
            "Total time elapsed: 5.79 seconds\n"
          ]
        }
      ]
    },
    {
      "cell_type": "code",
      "source": [
        "alexnn = Alexnn()\n",
        "train_net_alex(alexnn, batch_size=128, learning_rate=0.5, num_epochs=10)"
      ],
      "metadata": {
        "id": "cqPWTAJwH_Sf",
        "outputId": "1a817736-2b37-47fd-afe9-17d8f3866237",
        "colab": {
          "base_uri": "https://localhost:8080/"
        }
      },
      "execution_count": 85,
      "outputs": [
        {
          "output_type": "stream",
          "name": "stdout",
          "text": [
            "Epoch 1: Train err: 0.7746, Train loss: 2.1285 | Validation err: 0.6872, Validation loss: 1.9648\n",
            "Epoch 2: Train err: 0.6066, Train loss: 1.7007 | Validation err: 0.5103, Validation loss: 1.4922\n",
            "Epoch 3: Train err: 0.3320, Train loss: 1.1923 | Validation err: 0.3374, Validation loss: 1.0185\n",
            "Epoch 4: Train err: 0.2336, Train loss: 0.7925 | Validation err: 0.2840, Validation loss: 0.8173\n",
            "Epoch 5: Train err: 0.1967, Train loss: 0.5763 | Validation err: 0.2634, Validation loss: 0.7729\n",
            "Epoch 6: Train err: 0.0779, Train loss: 0.3182 | Validation err: 0.2140, Validation loss: 0.7584\n",
            "Epoch 7: Train err: 0.0615, Train loss: 0.2347 | Validation err: 0.1770, Validation loss: 0.5640\n",
            "Epoch 8: Train err: 0.0533, Train loss: 0.1563 | Validation err: 0.1852, Validation loss: 0.6273\n",
            "Epoch 9: Train err: 0.0164, Train loss: 0.0977 | Validation err: 0.1770, Validation loss: 0.5691\n",
            "Epoch 10: Train err: 0.0041, Train loss: 0.0642 | Validation err: 0.1605, Validation loss: 0.5641\n",
            "Finished Training\n",
            "Total time elapsed: 5.76 seconds\n"
          ]
        }
      ]
    },
    {
      "cell_type": "code",
      "source": [
        "# Plot the best training model\n",
        "bestmodel = get_model_name(\"Alexnn\", batch_size=128, learning_rate=0.5, epoch=9)\n",
        "plot_training_curve(bestmodel)"
      ],
      "metadata": {
        "colab": {
          "base_uri": "https://localhost:8080/",
          "height": 927
        },
        "id": "iHkypSt47Nse",
        "outputId": "2a1d9358-080f-48f7-9297-35f7a29990dd"
      },
      "execution_count": 88,
      "outputs": [
        {
          "output_type": "display_data",
          "data": {
            "text/plain": [
              "<Figure size 640x480 with 1 Axes>"
            ],
            "image/png": "[encoded data removed]"
          },
          "metadata": {}
        },
        {
          "output_type": "display_data",
          "data": {
            "text/plain": [
              "<Figure size 640x480 with 1 Axes>"
            ],
            "image/png": "[encoded data removed]"
          },
          "metadata": {}
        }
      ]
    },
    {
      "cell_type": "markdown",
      "metadata": {
        "id": "hQ2tvqJ68Mqb"
      },
      "source": [
        "### Part (iv) - [1pt RESULTS]\n",
        "Report the test accuracy of your best model. How does the test accuracy compare to Part 3(iv) without transfer learning?\n",
        "\n",
        "Additionally, provide a confusion matrix to visualize the performance of your model across different classes."
      ]
    },
    {
      "cell_type": "code",
      "source": [
        "def evaluate(net, loader, criterion):\n",
        "    total_loss = 0.0\n",
        "    total_err = 0.0\n",
        "    total_samples = 0\n",
        "    with torch.no_grad(): # Prevents PyTorch from computing gradients during evaluation.\n",
        "        for inputs, labels in loader:\n",
        "            outputs = net(inputs)\n",
        "\n",
        "            # Compute loss\n",
        "            loss = criterion(outputs, labels)\n",
        "\n",
        "            # Compute classification error\n",
        "            _, predicted = torch.max(outputs, 1)\n",
        "            total_err += (predicted != labels).sum().item()\n",
        "            total_loss += loss.item() # Converts the scalar loss tensor into a Python float.\n",
        "            total_samples += len(labels)\n",
        "\n",
        "    err = total_err / total_samples\n",
        "    avg_loss = total_loss / len(loader)\n",
        "\n",
        "    return err, avg_loss"
      ],
      "metadata": {
        "id": "EPfkeBdW9Cp-"
      },
      "execution_count": null,
      "outputs": []
    },
    {
      "cell_type": "code",
      "execution_count": 90,
      "metadata": {
        "id": "a7TJTa_qbfrR",
        "colab": {
          "base_uri": "https://localhost:8080/",
          "height": 144
        },
        "outputId": "f9efb453-7a5e-49a6-813a-9aac13d7d9d4"
      },
      "outputs": [
        {
          "output_type": "stream",
          "name": "stderr",
          "text": [
            "<ipython-input-90-838b47f0914d>:11: FutureWarning: You are using `torch.load` with `weights_only=False` (the current default value), which uses the default pickle module implicitly. It is possible to construct malicious pickle data which will execute arbitrary code during unpickling (See https://github.com/pytorch/pytorch/blob/main/SECURITY.md#untrusted-models for more details). In a future release, the default value for `weights_only` will be flipped to `True`. This limits the functions that could be executed during unpickling. Arbitrary objects will no longer be allowed to be loaded via this mode unless they are explicitly allowlisted by the user via `torch.serialization.add_safe_globals`. We recommend you start setting `weights_only=True` for any use case where you don't have full control of the loaded file. Please open an issue on GitHub for any issues related to this experimental feature.\n",
            "  alexnn.load_state_dict(torch.load(model_path))\n"
          ]
        },
        {
          "output_type": "execute_result",
          "data": {
            "text/plain": [
              "   Test Error  Test Loss\n",
              "0    0.150129   0.517045"
            ],
            "text/html": [
              "\n",
              "  <div id=\"df-d61f8a9c-6e0b-4dd7-8cd8-725119b6b084\" class=\"colab-df-container\">\n",
              "    <div>\n",
              "<style scoped>\n",
              "    .dataframe tbody tr th:only-of-type {\n",
              "        vertical-align: middle;\n",
              "    }\n",
              "\n",
              "    .dataframe tbody tr th {\n",
              "        vertical-align: top;\n",
              "    }\n",
              "\n",
              "    .dataframe thead th {\n",
              "        text-align: right;\n",
              "    }\n",
              "</style>\n",
              "<table border=\"1\" class=\"dataframe\">\n",
              "  <thead>\n",
              "    <tr style=\"text-align: right;\">\n",
              "      <th></th>\n",
              "      <th>Test Error</th>\n",
              "      <th>Test Loss</th>\n",
              "    </tr>\n",
              "  </thead>\n",
              "  <tbody>\n",
              "    <tr>\n",
              "      <th>0</th>\n",
              "      <td>0.150129</td>\n",
              "      <td>0.517045</td>\n",
              "    </tr>\n",
              "  </tbody>\n",
              "</table>\n",
              "</div>\n",
              "    <div class=\"colab-df-buttons\">\n",
              "\n",
              "  <div class=\"colab-df-container\">\n",
              "    <button class=\"colab-df-convert\" onclick=\"convertToInteractive('df-d61f8a9c-6e0b-4dd7-8cd8-725119b6b084')\"\n",
              "            title=\"Convert this dataframe to an interactive table.\"\n",
              "            style=\"display:none;\">\n",
              "\n",
              "  <svg xmlns=\"http://www.w3.org/2000/svg\" height=\"24px\" viewBox=\"0 -960 960 960\">\n",
              "    <path d=\"M120-120v-720h720v720H120Zm60-500h600v-160H180v160Zm220 220h160v-160H400v160Zm0 220h160v-160H400v160ZM180-400h160v-160H180v160Zm440 0h160v-160H620v160ZM180-180h160v-160H180v160Zm440 0h160v-160H620v160Z\"/>\n",
              "  </svg>\n",
              "    </button>\n",
              "\n",
              "  <style>\n",
              "    .colab-df-container {\n",
              "      display:flex;\n",
              "      gap: 12px;\n",
              "    }\n",
              "\n",
              "    .colab-df-convert {\n",
              "      background-color: #E8F0FE;\n",
              "      border: none;\n",
              "      border-radius: 50%;\n",
              "      cursor: pointer;\n",
              "      display: none;\n",
              "      fill: #1967D2;\n",
              "      height: 32px;\n",
              "      padding: 0 0 0 0;\n",
              "      width: 32px;\n",
              "    }\n",
              "\n",
              "    .colab-df-convert:hover {\n",
              "      background-color: #E2EBFA;\n",
              "      box-shadow: 0px 1px 2px rgba(60, 64, 67, 0.3), 0px 1px 3px 1px rgba(60, 64, 67, 0.15);\n",
              "      fill: #174EA6;\n",
              "    }\n",
              "\n",
              "    .colab-df-buttons div {\n",
              "      margin-bottom: 4px;\n",
              "    }\n",
              "\n",
              "    [theme=dark] .colab-df-convert {\n",
              "      background-color: #3B4455;\n",
              "      fill: #D2E3FC;\n",
              "    }\n",
              "\n",
              "    [theme=dark] .colab-df-convert:hover {\n",
              "      background-color: #434B5C;\n",
              "      box-shadow: 0px 1px 3px 1px rgba(0, 0, 0, 0.15);\n",
              "      filter: drop-shadow(0px 1px 2px rgba(0, 0, 0, 0.3));\n",
              "      fill: #FFFFFF;\n",
              "    }\n",
              "  </style>\n",
              "\n",
              "    <script>\n",
              "      const buttonEl =\n",
              "        document.querySelector('#df-d61f8a9c-6e0b-4dd7-8cd8-725119b6b084 button.colab-df-convert');\n",
              "      buttonEl.style.display =\n",
              "        google.colab.kernel.accessAllowed ? 'block' : 'none';\n",
              "\n",
              "      async function convertToInteractive(key) {\n",
              "        const element = document.querySelector('#df-d61f8a9c-6e0b-4dd7-8cd8-725119b6b084');\n",
              "        const dataTable =\n",
              "          await google.colab.kernel.invokeFunction('convertToInteractive',\n",
              "                                                    [key], {});\n",
              "        if (!dataTable) return;\n",
              "\n",
              "        const docLinkHtml = 'Like what you see? Visit the ' +\n",
              "          '<a target=\"_blank\" href=https://colab.research.google.com/notebooks/data_table.ipynb>data table notebook</a>'\n",
              "          + ' to learn more about interactive tables.';\n",
              "        element.innerHTML = '';\n",
              "        dataTable['output_type'] = 'display_data';\n",
              "        await google.colab.output.renderOutput(dataTable, element);\n",
              "        const docLink = document.createElement('div');\n",
              "        docLink.innerHTML = docLinkHtml;\n",
              "        element.appendChild(docLink);\n",
              "      }\n",
              "    </script>\n",
              "  </div>\n",
              "\n",
              "\n",
              "  <div id=\"id_ca537fd0-8de1-4d0f-88db-d8553773d23e\">\n",
              "    <style>\n",
              "      .colab-df-generate {\n",
              "        background-color: #E8F0FE;\n",
              "        border: none;\n",
              "        border-radius: 50%;\n",
              "        cursor: pointer;\n",
              "        display: none;\n",
              "        fill: #1967D2;\n",
              "        height: 32px;\n",
              "        padding: 0 0 0 0;\n",
              "        width: 32px;\n",
              "      }\n",
              "\n",
              "      .colab-df-generate:hover {\n",
              "        background-color: #E2EBFA;\n",
              "        box-shadow: 0px 1px 2px rgba(60, 64, 67, 0.3), 0px 1px 3px 1px rgba(60, 64, 67, 0.15);\n",
              "        fill: #174EA6;\n",
              "      }\n",
              "\n",
              "      [theme=dark] .colab-df-generate {\n",
              "        background-color: #3B4455;\n",
              "        fill: #D2E3FC;\n",
              "      }\n",
              "\n",
              "      [theme=dark] .colab-df-generate:hover {\n",
              "        background-color: #434B5C;\n",
              "        box-shadow: 0px 1px 3px 1px rgba(0, 0, 0, 0.15);\n",
              "        filter: drop-shadow(0px 1px 2px rgba(0, 0, 0, 0.3));\n",
              "        fill: #FFFFFF;\n",
              "      }\n",
              "    </style>\n",
              "    <button class=\"colab-df-generate\" onclick=\"generateWithVariable('Alex_test_results')\"\n",
              "            title=\"Generate code using this dataframe.\"\n",
              "            style=\"display:none;\">\n",
              "\n",
              "  <svg xmlns=\"http://www.w3.org/2000/svg\" height=\"24px\"viewBox=\"0 0 24 24\"\n",
              "       width=\"24px\">\n",
              "    <path d=\"M7,19H8.4L18.45,9,17,7.55,7,17.6ZM5,21V16.75L18.45,3.32a2,2,0,0,1,2.83,0l1.4,1.43a1.91,1.91,0,0,1,.58,1.4,1.91,1.91,0,0,1-.58,1.4L9.25,21ZM18.45,9,17,7.55Zm-12,3A5.31,5.31,0,0,0,4.9,8.1,5.31,5.31,0,0,0,1,6.5,5.31,5.31,0,0,0,4.9,4.9,5.31,5.31,0,0,0,6.5,1,5.31,5.31,0,0,0,8.1,4.9,5.31,5.31,0,0,0,12,6.5,5.46,5.46,0,0,0,6.5,12Z\"/>\n",
              "  </svg>\n",
              "    </button>\n",
              "    <script>\n",
              "      (() => {\n",
              "      const buttonEl =\n",
              "        document.querySelector('#id_ca537fd0-8de1-4d0f-88db-d8553773d23e button.colab-df-generate');\n",
              "      buttonEl.style.display =\n",
              "        google.colab.kernel.accessAllowed ? 'block' : 'none';\n",
              "\n",
              "      buttonEl.onclick = () => {\n",
              "        google.colab.notebook.generateWithVariable('Alex_test_results');\n",
              "      }\n",
              "      })();\n",
              "    </script>\n",
              "  </div>\n",
              "\n",
              "    </div>\n",
              "  </div>\n"
            ],
            "application/vnd.google.colaboratory.intrinsic+json": {
              "type": "dataframe",
              "variable_name": "Alex_test_results",
              "summary": "{\n  \"name\": \"Alex_test_results\",\n  \"rows\": 1,\n  \"fields\": [\n    {\n      \"column\": \"Test Error\",\n      \"properties\": {\n        \"dtype\": \"number\",\n        \"std\": null,\n        \"min\": 0.15012853470437018,\n        \"max\": 0.15012853470437018,\n        \"num_unique_values\": 1,\n        \"samples\": [\n          0.15012853470437018\n        ],\n        \"semantic_type\": \"\",\n        \"description\": \"\"\n      }\n    },\n    {\n      \"column\": \"Test Loss\",\n      \"properties\": {\n        \"dtype\": \"number\",\n        \"std\": null,\n        \"min\": 0.5170451798399941,\n        \"max\": 0.5170451798399941,\n        \"num_unique_values\": 1,\n        \"samples\": [\n          0.5170451798399941\n        ],\n        \"semantic_type\": \"\",\n        \"description\": \"\"\n      }\n    }\n  ]\n}"
            }
          },
          "metadata": {},
          "execution_count": 90
        }
      ],
      "source": [
        "# TO BE COMPLETED\n",
        "import pandas as pd\n",
        "data_dir = '/content/A2_Hand_Gesture_Dataset_revised/Lab_3b_Gesture_Dataset Revised'\n",
        "batch_size = 128\n",
        "lr = 0.5\n",
        "epoch = 9\n",
        "alexnn = Alexnn()\n",
        "model_name = get_model_name(\"Alexnn\", batch_size, lr, epoch)\n",
        "model_path = f\"{model_name}\"\n",
        "\n",
        "alexnn.load_state_dict(torch.load(model_path))\n",
        "criterion = nn.CrossEntropyLoss()\n",
        "test_err, test_loss = evaluate(alexnn, test_loader, criterion)\n",
        "\n",
        "\n",
        "test_results = {\n",
        "    \"Test Error\": test_err,\n",
        "    \"Test Loss\": test_loss\n",
        "}\n",
        "Alex_test_results = pd.DataFrame(test_results, index=[0])\n",
        "Alex_test_results"
      ]
    },
    {
      "cell_type": "code",
      "source": [
        "from sklearn.metrics import confusion_matrix, ConfusionMatrixDisplay\n",
        "\n",
        "true_labels = []\n",
        "pred_labels = []\n",
        "alexnn.eval()\n",
        "\n",
        "with torch.no_grad():\n",
        "    for inputs, labels in test_loader:\n",
        "        outputs = alexnn(inputs)\n",
        "        _, preds = torch.max(outputs, 1)\n",
        "        true_labels.extend(labels.numpy())\n",
        "        pred_labels.extend(preds.numpy())\n",
        "\n",
        "# Compute confusion matrix\n",
        "cm = confusion_matrix(true_labels, pred_labels, labels=range(len(classes)))\n",
        "cm_df = pd.DataFrame(cm, index=classes, columns=classes)\n",
        "cm_df"
      ],
      "metadata": {
        "id": "yAfFR1PCJPcV",
        "outputId": "e495b3a9-577b-4b16-9768-c4f59918b56e",
        "colab": {
          "base_uri": "https://localhost:8080/",
          "height": 331
        }
      },
      "execution_count": 92,
      "outputs": [
        {
          "output_type": "execute_result",
          "data": {
            "text/plain": [
              "     A    B    C    D    E    F    G    H    I\n",
              "A  181    4    0    2   16    1    2    0    3\n",
              "B    0  191    0    0    0   23    3    2    1\n",
              "C    0    1  202    2    5    0    9    0    7\n",
              "D    3    0    2  207    3    3    1    5    2\n",
              "E   35    3    0    5  165    2    2    0    3\n",
              "F    1   20    1   12    2  169    3    2    7\n",
              "G    0    0    3    1    2    0  197   18    1\n",
              "H    0    0    3    1    2    1   42  156    3\n",
              "I    0    0    0    7    5    2    1    2  185"
            ],
            "text/html": [
              "\n",
              "  <div id=\"df-416aaa7b-a3f5-4b21-8a3b-7c26706ce3e9\" class=\"colab-df-container\">\n",
              "    <div>\n",
              "<style scoped>\n",
              "    .dataframe tbody tr th:only-of-type {\n",
              "        vertical-align: middle;\n",
              "    }\n",
              "\n",
              "    .dataframe tbody tr th {\n",
              "        vertical-align: top;\n",
              "    }\n",
              "\n",
              "    .dataframe thead th {\n",
              "        text-align: right;\n",
              "    }\n",
              "</style>\n",
              "<table border=\"1\" class=\"dataframe\">\n",
              "  <thead>\n",
              "    <tr style=\"text-align: right;\">\n",
              "      <th></th>\n",
              "      <th>A</th>\n",
              "      <th>B</th>\n",
              "      <th>C</th>\n",
              "      <th>D</th>\n",
              "      <th>E</th>\n",
              "      <th>F</th>\n",
              "      <th>G</th>\n",
              "      <th>H</th>\n",
              "      <th>I</th>\n",
              "    </tr>\n",
              "  </thead>\n",
              "  <tbody>\n",
              "    <tr>\n",
              "      <th>A</th>\n",
              "      <td>181</td>\n",
              "      <td>4</td>\n",
              "      <td>0</td>\n",
              "      <td>2</td>\n",
              "      <td>16</td>\n",
              "      <td>1</td>\n",
              "      <td>2</td>\n",
              "      <td>0</td>\n",
              "      <td>3</td>\n",
              "    </tr>\n",
              "    <tr>\n",
              "      <th>B</th>\n",
              "      <td>0</td>\n",
              "      <td>191</td>\n",
              "      <td>0</td>\n",
              "      <td>0</td>\n",
              "      <td>0</td>\n",
              "      <td>23</td>\n",
              "      <td>3</td>\n",
              "      <td>2</td>\n",
              "      <td>1</td>\n",
              "    </tr>\n",
              "    <tr>\n",
              "      <th>C</th>\n",
              "      <td>0</td>\n",
              "      <td>1</td>\n",
              "      <td>202</td>\n",
              "      <td>2</td>\n",
              "      <td>5</td>\n",
              "      <td>0</td>\n",
              "      <td>9</td>\n",
              "      <td>0</td>\n",
              "      <td>7</td>\n",
              "    </tr>\n",
              "    <tr>\n",
              "      <th>D</th>\n",
              "      <td>3</td>\n",
              "      <td>0</td>\n",
              "      <td>2</td>\n",
              "      <td>207</td>\n",
              "      <td>3</td>\n",
              "      <td>3</td>\n",
              "      <td>1</td>\n",
              "      <td>5</td>\n",
              "      <td>2</td>\n",
              "    </tr>\n",
              "    <tr>\n",
              "      <th>E</th>\n",
              "      <td>35</td>\n",
              "      <td>3</td>\n",
              "      <td>0</td>\n",
              "      <td>5</td>\n",
              "      <td>165</td>\n",
              "      <td>2</td>\n",
              "      <td>2</td>\n",
              "      <td>0</td>\n",
              "      <td>3</td>\n",
              "    </tr>\n",
              "    <tr>\n",
              "      <th>F</th>\n",
              "      <td>1</td>\n",
              "      <td>20</td>\n",
              "      <td>1</td>\n",
              "      <td>12</td>\n",
              "      <td>2</td>\n",
              "      <td>169</td>\n",
              "      <td>3</td>\n",
              "      <td>2</td>\n",
              "      <td>7</td>\n",
              "    </tr>\n",
              "    <tr>\n",
              "      <th>G</th>\n",
              "      <td>0</td>\n",
              "      <td>0</td>\n",
              "      <td>3</td>\n",
              "      <td>1</td>\n",
              "      <td>2</td>\n",
              "      <td>0</td>\n",
              "      <td>197</td>\n",
              "      <td>18</td>\n",
              "      <td>1</td>\n",
              "    </tr>\n",
              "    <tr>\n",
              "      <th>H</th>\n",
              "      <td>0</td>\n",
              "      <td>0</td>\n",
              "      <td>3</td>\n",
              "      <td>1</td>\n",
              "      <td>2</td>\n",
              "      <td>1</td>\n",
              "      <td>42</td>\n",
              "      <td>156</td>\n",
              "      <td>3</td>\n",
              "    </tr>\n",
              "    <tr>\n",
              "      <th>I</th>\n",
              "      <td>0</td>\n",
              "      <td>0</td>\n",
              "      <td>0</td>\n",
              "      <td>7</td>\n",
              "      <td>5</td>\n",
              "      <td>2</td>\n",
              "      <td>1</td>\n",
              "      <td>2</td>\n",
              "      <td>185</td>\n",
              "    </tr>\n",
              "  </tbody>\n",
              "</table>\n",
              "</div>\n",
              "    <div class=\"colab-df-buttons\">\n",
              "\n",
              "  <div class=\"colab-df-container\">\n",
              "    <button class=\"colab-df-convert\" onclick=\"convertToInteractive('df-416aaa7b-a3f5-4b21-8a3b-7c26706ce3e9')\"\n",
              "            title=\"Convert this dataframe to an interactive table.\"\n",
              "            style=\"display:none;\">\n",
              "\n",
              "  <svg xmlns=\"http://www.w3.org/2000/svg\" height=\"24px\" viewBox=\"0 -960 960 960\">\n",
              "    <path d=\"M120-120v-720h720v720H120Zm60-500h600v-160H180v160Zm220 220h160v-160H400v160Zm0 220h160v-160H400v160ZM180-400h160v-160H180v160Zm440 0h160v-160H620v160ZM180-180h160v-160H180v160Zm440 0h160v-160H620v160Z\"/>\n",
              "  </svg>\n",
              "    </button>\n",
              "\n",
              "  <style>\n",
              "    .colab-df-container {\n",
              "      display:flex;\n",
              "      gap: 12px;\n",
              "    }\n",
              "\n",
              "    .colab-df-convert {\n",
              "      background-color: #E8F0FE;\n",
              "      border: none;\n",
              "      border-radius: 50%;\n",
              "      cursor: pointer;\n",
              "      display: none;\n",
              "      fill: #1967D2;\n",
              "      height: 32px;\n",
              "      padding: 0 0 0 0;\n",
              "      width: 32px;\n",
              "    }\n",
              "\n",
              "    .colab-df-convert:hover {\n",
              "      background-color: #E2EBFA;\n",
              "      box-shadow: 0px 1px 2px rgba(60, 64, 67, 0.3), 0px 1px 3px 1px rgba(60, 64, 67, 0.15);\n",
              "      fill: #174EA6;\n",
              "    }\n",
              "\n",
              "    .colab-df-buttons div {\n",
              "      margin-bottom: 4px;\n",
              "    }\n",
              "\n",
              "    [theme=dark] .colab-df-convert {\n",
              "      background-color: #3B4455;\n",
              "      fill: #D2E3FC;\n",
              "    }\n",
              "\n",
              "    [theme=dark] .colab-df-convert:hover {\n",
              "      background-color: #434B5C;\n",
              "      box-shadow: 0px 1px 3px 1px rgba(0, 0, 0, 0.15);\n",
              "      filter: drop-shadow(0px 1px 2px rgba(0, 0, 0, 0.3));\n",
              "      fill: #FFFFFF;\n",
              "    }\n",
              "  </style>\n",
              "\n",
              "    <script>\n",
              "      const buttonEl =\n",
              "        document.querySelector('#df-416aaa7b-a3f5-4b21-8a3b-7c26706ce3e9 button.colab-df-convert');\n",
              "      buttonEl.style.display =\n",
              "        google.colab.kernel.accessAllowed ? 'block' : 'none';\n",
              "\n",
              "      async function convertToInteractive(key) {\n",
              "        const element = document.querySelector('#df-416aaa7b-a3f5-4b21-8a3b-7c26706ce3e9');\n",
              "        const dataTable =\n",
              "          await google.colab.kernel.invokeFunction('convertToInteractive',\n",
              "                                                    [key], {});\n",
              "        if (!dataTable) return;\n",
              "\n",
              "        const docLinkHtml = 'Like what you see? Visit the ' +\n",
              "          '<a target=\"_blank\" href=https://colab.research.google.com/notebooks/data_table.ipynb>data table notebook</a>'\n",
              "          + ' to learn more about interactive tables.';\n",
              "        element.innerHTML = '';\n",
              "        dataTable['output_type'] = 'display_data';\n",
              "        await google.colab.output.renderOutput(dataTable, element);\n",
              "        const docLink = document.createElement('div');\n",
              "        docLink.innerHTML = docLinkHtml;\n",
              "        element.appendChild(docLink);\n",
              "      }\n",
              "    </script>\n",
              "  </div>\n",
              "\n",
              "\n",
              "<div id=\"df-0284dca2-e725-4773-ad3e-884b1d684f54\">\n",
              "  <button class=\"colab-df-quickchart\" onclick=\"quickchart('df-0284dca2-e725-4773-ad3e-884b1d684f54')\"\n",
              "            title=\"Suggest charts\"\n",
              "            style=\"display:none;\">\n",
              "\n",
              "<svg xmlns=\"http://www.w3.org/2000/svg\" height=\"24px\"viewBox=\"0 0 24 24\"\n",
              "     width=\"24px\">\n",
              "    <g>\n",
              "        <path d=\"M19 3H5c-1.1 0-2 .9-2 2v14c0 1.1.9 2 2 2h14c1.1 0 2-.9 2-2V5c0-1.1-.9-2-2-2zM9 17H7v-7h2v7zm4 0h-2V7h2v10zm4 0h-2v-4h2v4z\"/>\n",
              "    </g>\n",
              "</svg>\n",
              "  </button>\n",
              "\n",
              "<style>\n",
              "  .colab-df-quickchart {\n",
              "      --bg-color: #E8F0FE;\n",
              "      --fill-color: #1967D2;\n",
              "      --hover-bg-color: #E2EBFA;\n",
              "      --hover-fill-color: #174EA6;\n",
              "      --disabled-fill-color: #AAA;\n",
              "      --disabled-bg-color: #DDD;\n",
              "  }\n",
              "\n",
              "  [theme=dark] .colab-df-quickchart {\n",
              "      --bg-color: #3B4455;\n",
              "      --fill-color: #D2E3FC;\n",
              "      --hover-bg-color: #434B5C;\n",
              "      --hover-fill-color: #FFFFFF;\n",
              "      --disabled-bg-color: #3B4455;\n",
              "      --disabled-fill-color: #666;\n",
              "  }\n",
              "\n",
              "  .colab-df-quickchart {\n",
              "    background-color: var(--bg-color);\n",
              "    border: none;\n",
              "    border-radius: 50%;\n",
              "    cursor: pointer;\n",
              "    display: none;\n",
              "    fill: var(--fill-color);\n",
              "    height: 32px;\n",
              "    padding: 0;\n",
              "    width: 32px;\n",
              "  }\n",
              "\n",
              "  .colab-df-quickchart:hover {\n",
              "    background-color: var(--hover-bg-color);\n",
              "    box-shadow: 0 1px 2px rgba(60, 64, 67, 0.3), 0 1px 3px 1px rgba(60, 64, 67, 0.15);\n",
              "    fill: var(--button-hover-fill-color);\n",
              "  }\n",
              "\n",
              "  .colab-df-quickchart-complete:disabled,\n",
              "  .colab-df-quickchart-complete:disabled:hover {\n",
              "    background-color: var(--disabled-bg-color);\n",
              "    fill: var(--disabled-fill-color);\n",
              "    box-shadow: none;\n",
              "  }\n",
              "\n",
              "  .colab-df-spinner {\n",
              "    border: 2px solid var(--fill-color);\n",
              "    border-color: transparent;\n",
              "    border-bottom-color: var(--fill-color);\n",
              "    animation:\n",
              "      spin 1s steps(1) infinite;\n",
              "  }\n",
              "\n",
              "  @keyframes spin {\n",
              "    0% {\n",
              "      border-color: transparent;\n",
              "      border-bottom-color: var(--fill-color);\n",
              "      border-left-color: var(--fill-color);\n",
              "    }\n",
              "    20% {\n",
              "      border-color: transparent;\n",
              "      border-left-color: var(--fill-color);\n",
              "      border-top-color: var(--fill-color);\n",
              "    }\n",
              "    30% {\n",
              "      border-color: transparent;\n",
              "      border-left-color: var(--fill-color);\n",
              "      border-top-color: var(--fill-color);\n",
              "      border-right-color: var(--fill-color);\n",
              "    }\n",
              "    40% {\n",
              "      border-color: transparent;\n",
              "      border-right-color: var(--fill-color);\n",
              "      border-top-color: var(--fill-color);\n",
              "    }\n",
              "    60% {\n",
              "      border-color: transparent;\n",
              "      border-right-color: var(--fill-color);\n",
              "    }\n",
              "    80% {\n",
              "      border-color: transparent;\n",
              "      border-right-color: var(--fill-color);\n",
              "      border-bottom-color: var(--fill-color);\n",
              "    }\n",
              "    90% {\n",
              "      border-color: transparent;\n",
              "      border-bottom-color: var(--fill-color);\n",
              "    }\n",
              "  }\n",
              "</style>\n",
              "\n",
              "  <script>\n",
              "    async function quickchart(key) {\n",
              "      const quickchartButtonEl =\n",
              "        document.querySelector('#' + key + ' button');\n",
              "      quickchartButtonEl.disabled = true;  // To prevent multiple clicks.\n",
              "      quickchartButtonEl.classList.add('colab-df-spinner');\n",
              "      try {\n",
              "        const charts = await google.colab.kernel.invokeFunction(\n",
              "            'suggestCharts', [key], {});\n",
              "      } catch (error) {\n",
              "        console.error('Error during call to suggestCharts:', error);\n",
              "      }\n",
              "      quickchartButtonEl.classList.remove('colab-df-spinner');\n",
              "      quickchartButtonEl.classList.add('colab-df-quickchart-complete');\n",
              "    }\n",
              "    (() => {\n",
              "      let quickchartButtonEl =\n",
              "        document.querySelector('#df-0284dca2-e725-4773-ad3e-884b1d684f54 button');\n",
              "      quickchartButtonEl.style.display =\n",
              "        google.colab.kernel.accessAllowed ? 'block' : 'none';\n",
              "    })();\n",
              "  </script>\n",
              "</div>\n",
              "\n",
              "  <div id=\"id_d3bb4d81-bda7-4c7b-9e9d-62655625e4d0\">\n",
              "    <style>\n",
              "      .colab-df-generate {\n",
              "        background-color: #E8F0FE;\n",
              "        border: none;\n",
              "        border-radius: 50%;\n",
              "        cursor: pointer;\n",
              "        display: none;\n",
              "        fill: #1967D2;\n",
              "        height: 32px;\n",
              "        padding: 0 0 0 0;\n",
              "        width: 32px;\n",
              "      }\n",
              "\n",
              "      .colab-df-generate:hover {\n",
              "        background-color: #E2EBFA;\n",
              "        box-shadow: 0px 1px 2px rgba(60, 64, 67, 0.3), 0px 1px 3px 1px rgba(60, 64, 67, 0.15);\n",
              "        fill: #174EA6;\n",
              "      }\n",
              "\n",
              "      [theme=dark] .colab-df-generate {\n",
              "        background-color: #3B4455;\n",
              "        fill: #D2E3FC;\n",
              "      }\n",
              "\n",
              "      [theme=dark] .colab-df-generate:hover {\n",
              "        background-color: #434B5C;\n",
              "        box-shadow: 0px 1px 3px 1px rgba(0, 0, 0, 0.15);\n",
              "        filter: drop-shadow(0px 1px 2px rgba(0, 0, 0, 0.3));\n",
              "        fill: #FFFFFF;\n",
              "      }\n",
              "    </style>\n",
              "    <button class=\"colab-df-generate\" onclick=\"generateWithVariable('cm_df')\"\n",
              "            title=\"Generate code using this dataframe.\"\n",
              "            style=\"display:none;\">\n",
              "\n",
              "  <svg xmlns=\"http://www.w3.org/2000/svg\" height=\"24px\"viewBox=\"0 0 24 24\"\n",
              "       width=\"24px\">\n",
              "    <path d=\"M7,19H8.4L18.45,9,17,7.55,7,17.6ZM5,21V16.75L18.45,3.32a2,2,0,0,1,2.83,0l1.4,1.43a1.91,1.91,0,0,1,.58,1.4,1.91,1.91,0,0,1-.58,1.4L9.25,21ZM18.45,9,17,7.55Zm-12,3A5.31,5.31,0,0,0,4.9,8.1,5.31,5.31,0,0,0,1,6.5,5.31,5.31,0,0,0,4.9,4.9,5.31,5.31,0,0,0,6.5,1,5.31,5.31,0,0,0,8.1,4.9,5.31,5.31,0,0,0,12,6.5,5.46,5.46,0,0,0,6.5,12Z\"/>\n",
              "  </svg>\n",
              "    </button>\n",
              "    <script>\n",
              "      (() => {\n",
              "      const buttonEl =\n",
              "        document.querySelector('#id_d3bb4d81-bda7-4c7b-9e9d-62655625e4d0 button.colab-df-generate');\n",
              "      buttonEl.style.display =\n",
              "        google.colab.kernel.accessAllowed ? 'block' : 'none';\n",
              "\n",
              "      buttonEl.onclick = () => {\n",
              "        google.colab.notebook.generateWithVariable('cm_df');\n",
              "      }\n",
              "      })();\n",
              "    </script>\n",
              "  </div>\n",
              "\n",
              "    </div>\n",
              "  </div>\n"
            ],
            "application/vnd.google.colaboratory.intrinsic+json": {
              "type": "dataframe",
              "variable_name": "cm_df",
              "summary": "{\n  \"name\": \"cm_df\",\n  \"rows\": 9,\n  \"fields\": [\n    {\n      \"column\": \"A\",\n      \"properties\": {\n        \"dtype\": \"number\",\n        \"std\": 59,\n        \"min\": 0,\n        \"max\": 181,\n        \"num_unique_values\": 5,\n        \"samples\": [\n          0,\n          1,\n          3\n        ],\n        \"semantic_type\": \"\",\n        \"description\": \"\"\n      }\n    },\n    {\n      \"column\": \"B\",\n      \"properties\": {\n        \"dtype\": \"number\",\n        \"std\": 62,\n        \"min\": 0,\n        \"max\": 191,\n        \"num_unique_values\": 6,\n        \"samples\": [\n          4,\n          191,\n          20\n        ],\n        \"semantic_type\": \"\",\n        \"description\": \"\"\n      }\n    },\n    {\n      \"column\": \"C\",\n      \"properties\": {\n        \"dtype\": \"number\",\n        \"std\": 66,\n        \"min\": 0,\n        \"max\": 202,\n        \"num_unique_values\": 5,\n        \"samples\": [\n          202,\n          3,\n          2\n        ],\n        \"semantic_type\": \"\",\n        \"description\": \"\"\n      }\n    },\n    {\n      \"column\": \"D\",\n      \"properties\": {\n        \"dtype\": \"number\",\n        \"std\": 67,\n        \"min\": 0,\n        \"max\": 207,\n        \"num_unique_values\": 7,\n        \"samples\": [\n          2,\n          0,\n          1\n        ],\n        \"semantic_type\": \"\",\n        \"description\": \"\"\n      }\n    },\n    {\n      \"column\": \"E\",\n      \"properties\": {\n        \"dtype\": \"number\",\n        \"std\": 53,\n        \"min\": 0,\n        \"max\": 165,\n        \"num_unique_values\": 6,\n        \"samples\": [\n          16,\n          0,\n          2\n        ],\n        \"semantic_type\": \"\",\n        \"description\": \"\"\n      }\n    },\n    {\n      \"column\": \"F\",\n      \"properties\": {\n        \"dtype\": \"number\",\n        \"std\": 55,\n        \"min\": 0,\n        \"max\": 169,\n        \"num_unique_values\": 6,\n        \"samples\": [\n          1,\n          23,\n          169\n        ],\n        \"semantic_type\": \"\",\n        \"description\": \"\"\n      }\n    },\n    {\n      \"column\": \"G\",\n      \"properties\": {\n        \"dtype\": \"number\",\n        \"std\": 64,\n        \"min\": 1,\n        \"max\": 197,\n        \"num_unique_values\": 6,\n        \"samples\": [\n          2,\n          3,\n          42\n        ],\n        \"semantic_type\": \"\",\n        \"description\": \"\"\n      }\n    },\n    {\n      \"column\": \"H\",\n      \"properties\": {\n        \"dtype\": \"number\",\n        \"std\": 51,\n        \"min\": 0,\n        \"max\": 156,\n        \"num_unique_values\": 5,\n        \"samples\": [\n          2,\n          156,\n          5\n        ],\n        \"semantic_type\": \"\",\n        \"description\": \"\"\n      }\n    },\n    {\n      \"column\": \"I\",\n      \"properties\": {\n        \"dtype\": \"number\",\n        \"std\": 60,\n        \"min\": 1,\n        \"max\": 185,\n        \"num_unique_values\": 5,\n        \"samples\": [\n          1,\n          185,\n          7\n        ],\n        \"semantic_type\": \"\",\n        \"description\": \"\"\n      }\n    }\n  ]\n}"
            }
          },
          "metadata": {},
          "execution_count": 92
        }
      ]
    },
    {
      "cell_type": "code",
      "execution_count": null,
      "metadata": {
        "id": "8Fyh08uCbfrm"
      },
      "outputs": [],
      "source": [
        "'''\n",
        "PROVIDE YOUR ANSWER BELOW\n",
        "\n",
        "Diagonal sum of the confusion matrix: 181 + 191 + 202 + 207 + 165 + 169 + 197 + 156 + 185 = 1573\n",
        "Total sample: 1850\n",
        "Accuracy: 1573/1850 = 85.0%\n",
        "The test error rate is 15.0%\n",
        "\n",
        "The accuarcy has improved from 62% to 85% compared with Part 3(iv) with no transfer learning.\n",
        "'''"
      ]
    },
    {
      "cell_type": "markdown",
      "source": [
        "### Part (v) - Transfer Learning with Another Pretrained Model [1pts EXPLORATORY]\n",
        "In this section, you will repeat the steps performed in Parts B4(i) to B4(iv) using another pretrained model available in torchvision.models. The goal is to compare the results obtained with AlexNet to those obtained with another model, such as VGG16 or ResNet18 (you can choose your model/s of interest)."
      ],
      "metadata": {
        "id": "OlOMAeplTOfc"
      }
    },
    {
      "cell_type": "code",
      "source": [
        "## Load the model/s of interest\n",
        "## TO BE COMPLETED\n",
        "\n",
        "\n"
      ],
      "metadata": {
        "id": "p4TvTSBJXw7o"
      },
      "execution_count": null,
      "outputs": []
    },
    {
      "cell_type": "markdown",
      "metadata": {
        "id": "ExuGaPASYYaF"
      },
      "source": [
        "### Part (vi) - [1pt MODEL]\n",
        "Build a convolutional neural network model that makes\n",
        "predictions based on features extracted by your model of interest in Part B4(v). Your model should be a subclass of nn.Module.\n",
        "\n",
        "Explain your choice of neural network architecture."
      ]
    },
    {
      "cell_type": "code",
      "execution_count": null,
      "metadata": {
        "id": "rBXTafjHYzul"
      },
      "outputs": [],
      "source": [
        "# TO BE COMPLETED\n",
        "\n",
        "\n",
        "\n"
      ]
    },
    {
      "cell_type": "code",
      "execution_count": null,
      "metadata": {
        "id": "QukvaphlZB-O"
      },
      "outputs": [],
      "source": [
        "'''\n",
        "PROVIDE YOUR ANSWER BELOW\n",
        "\n",
        "\n",
        "\n",
        "\n",
        "\n",
        "\n",
        "'''"
      ]
    },
    {
      "cell_type": "markdown",
      "source": [
        "### Part (vii) - [1pt MODEL]\n",
        "Train your new network, including any hyperparameter tuning. Plot and submit the training curve of your best model only."
      ],
      "metadata": {
        "id": "ZwzxSiwiZWKH"
      }
    },
    {
      "cell_type": "code",
      "execution_count": null,
      "metadata": {
        "id": "gtvERFJeZfeU"
      },
      "outputs": [],
      "source": [
        "# TO BE COMPLETED\n",
        "\n",
        "\n",
        "\n"
      ]
    },
    {
      "cell_type": "markdown",
      "source": [
        "### Part (viii) - [1pt RESULTS]\n",
        "Compare the performance of AlexNet (Part B4(iv)) and the other pretrained model you selected (Part B4(vii)). Discuss the differences in performance between AlexNet and the new model."
      ],
      "metadata": {
        "id": "XL4c2TaqaEtB"
      }
    },
    {
      "cell_type": "code",
      "execution_count": null,
      "metadata": {
        "id": "oowtpuLjaUjX"
      },
      "outputs": [],
      "source": [
        "# TO BE COMPLETED\n",
        "\n",
        "\n",
        "\n"
      ]
    },
    {
      "cell_type": "code",
      "execution_count": null,
      "metadata": {
        "id": "hnmMcouh-UFm"
      },
      "outputs": [],
      "source": [
        "'''\n",
        "PROVIDE YOUR ANSWER BELOW\n",
        "\n",
        "\n",
        "\n",
        "\n",
        "\n",
        "\n",
        "'''"
      ]
    },
    {
      "cell_type": "markdown",
      "metadata": {
        "id": "XrDPb0orGZYJ"
      },
      "source": [
        "## Part 5. Testing on New Data [14pt]\n",
        "\n",
        "In this final step, we will evaluate the models trained using new data that was not part of the training process. In this assignment, there will be three different test datasets:\n",
        "\n",
        "1. The test dataset generated by splitting the labeled data provided in the file `A2_Hand_Gesture_Dataset_revised.zip` into train, validation, and test sets. It is used throughout Part B1 to B4.\n",
        "2. The data you collected in Part A.\n",
        "3. The unlabeled data provided in `A2_Hand_Gesture_Unlabeled_Data.zip`."
      ]
    },
    {
      "cell_type": "markdown",
      "metadata": {
        "id": "IsunI_7ILqnS"
      },
      "source": [
        "### Part (i) - [2pt EXPLORATORY]\n",
        "Load and process the hand gesture images you had collected so that they can easily be evaulated by your model."
      ]
    },
    {
      "cell_type": "code",
      "execution_count": null,
      "metadata": {
        "id": "uSBa_pDmblQZ"
      },
      "outputs": [],
      "source": [
        "# TO BE COMPLETED\n",
        "\n",
        "\n",
        "\n"
      ]
    },
    {
      "cell_type": "markdown",
      "metadata": {
        "id": "8z7JBhPmLqnS"
      },
      "source": [
        "### Part (ii) - [2pt RESULTS]\n",
        "Using the best transfer learning model developed in Part 4. Report the test accuracy on your sample images and how it compares to the test accuracy obtained in Part 4(iv)? Also, use your best model from Part 3 to report the test accuracy on the new sample images and how it compares to the test accuracy obtained in Part 3(iv). You should present your results in a pandas DataFrame.\n",
        "\n",
        "This question will also be evaluated on the overal performance achieved."
      ]
    },
    {
      "cell_type": "code",
      "execution_count": null,
      "metadata": {
        "id": "lfT77JP3bpud"
      },
      "outputs": [],
      "source": [
        "# TO BE COMPLETED\n",
        "\n",
        "\n",
        "\n"
      ]
    },
    {
      "cell_type": "markdown",
      "source": [
        "### Part (iii) - [3pt RESULTS]\n",
        "\n",
        "Load the unlabeled hand gesture images from the supplementary assignment files on Quercus (`A2_Hand_Gesture_Unlabeled_Data.zip`), which contains 615 unlabeled images. Using the best transfer learning model developed in Part 4, classify all 615 images and save the results in a .CSV file with the following format (Note: The file will be evaluated using an automated Python script to assess your model's performance, so make sure to follow the format precisely).\n",
        "\n",
        "1. The .csv file must contain exactly 615 lines.\n",
        "2. Each line should have two comma-separated values: the first value is the image ID number (the filename, e.g., 1 or 123), and the second is the image class (a letter, such as A, B, C, D, E, F, G, H, or I). Do not use spaces or quotation marks.\n",
        "3. Name your .csv file your student number (Example: 1001234567.csv)\n",
        "\n",
        "Example .csv file:\n",
        "```\n",
        "1,A\n",
        "2,B\n",
        "3,C\n",
        "4,H\n",
        "...\n",
        "..\n",
        "615,I\n",
        "```"
      ],
      "metadata": {
        "id": "ZtWjvcTJd_ro"
      }
    },
    {
      "cell_type": "code",
      "source": [
        "##TO BE COMPLETED\n",
        "\n",
        "\n",
        "\n"
      ],
      "metadata": {
        "id": "9X1_E4iroG7R"
      },
      "execution_count": null,
      "outputs": []
    },
    {
      "cell_type": "markdown",
      "metadata": {
        "id": "IBdVwrmGmdS0"
      },
      "source": [
        "### Part (iv) - [5pt DISCUSSION]\n",
        "How well did your models do for the different hand guestures? Provide an explanation for why you think your models performed the way it did? Be sure to compare the results for three test datasets mentioned in part B5. You can refer to the confusion matrices presented earlier.\n",
        "\n",
        "How well would this model perform if you were to deploy it in the real-world? List some things you could do to improve the model performance."
      ]
    },
    {
      "cell_type": "code",
      "execution_count": null,
      "metadata": {
        "id": "KD5YZTfBbpu1"
      },
      "outputs": [],
      "source": [
        "'''\n",
        "PROVIDE YOUR ANSWER BELOW\n",
        "\n",
        "\n",
        "\n",
        "\n",
        "\n",
        "\n",
        "'''"
      ]
    },
    {
      "cell_type": "markdown",
      "metadata": {
        "id": "cyCMx83xLJt0"
      },
      "source": [
        "### Part (v) - [2pt DISCUSSION]\n",
        "Reflect on the ethical implications of deploying a hand gesture recognition model in real-world applications. What are some potential biases that could arise in your model, and how might they impact different user groups?\n",
        "\n",
        "Discuss measures you can take to identify and mitigate these biases during the development and deployment phases. Consider aspects such as data collection, model training, and user feedback."
      ]
    },
    {
      "cell_type": "code",
      "execution_count": null,
      "metadata": {
        "id": "bFsB8SN0LJt0"
      },
      "outputs": [],
      "source": [
        "'''\n",
        "PROVIDE YOUR ANSWER BELOW\n",
        "\n",
        "\n",
        "\n",
        "\n",
        "\n",
        "\n",
        "'''"
      ]
    },
    {
      "cell_type": "markdown",
      "metadata": {
        "id": "9SMqukISPXen"
      },
      "source": [
        "# PART C (Optional) - Bonus Challenge!\n",
        "\n",
        "This is an optional exercise for those that finish the assignment early and would like to take on some additional challenging task.\n",
        "\n",
        "For this bonus challenge you are asked to explore different techniques to further improve the model for more realistic scenarios where the hands may be in front of various backgrounds, be taken at different scales, rotations, and positions in the image. To build a superior image classification model you can complete one or all of the following tasks.\n",
        "\n",
        "Tasks:\n",
        "\n",
        "1. Test your best models (with or without transfer learning) on hand gestures images with backgrounds that are not clean and smooth. You can take your own hand gesture images, or find ones online to test your model. Comment on the performance of your model.\n",
        "2. Generated additional data by performing data augmentation to replace the clean, smooth backgrounds with backgrounds with different textures. Do this on all your training, validation, and test data. This task can be done manually (could take a long time) or you can implement code that can automate the task. For Example, one approach you could take to automate this task is to use pretrained image segmentation tools to identify the hands in the images and crop them out and put them onto other backgrounds.\n",
        "3. Implement one of many region proposal tools to detect hand gestures in image frames and put a bounding box around the region with the highest confidence. You can use pretrained YOLO models, or a region proposal tool from openCV.\n",
        "4. Create a short video demonstration how you can use your hand gesture recognition model to communicate a message using hand gestures.\n",
        "\n",
        "Bonus marks will be provided based on the number of steps completed. Summarize below your results and anything intersting you learned from the steps that you completed. Bonus marks cannot be accumulated beyond the maximum assignment grade."
      ]
    },
    {
      "cell_type": "code",
      "execution_count": null,
      "metadata": {
        "id": "y7RdCepbPbya"
      },
      "outputs": [],
      "source": [
        "# TO BE COMPLETED\n",
        "\n",
        "\n"
      ]
    },
    {
      "cell_type": "code",
      "execution_count": null,
      "metadata": {
        "id": "l-16xaXFPcql"
      },
      "outputs": [],
      "source": [
        "'''\n",
        "PROVIDE YOUR ANSWER BELOW\n",
        "\n",
        "\n",
        "\n",
        "\n",
        "\n",
        "\n",
        "'''"
      ]
    },
    {
      "cell_type": "markdown",
      "metadata": {
        "id": "FYwI4RmFS2RB"
      },
      "source": [
        "### Saving to HTML\n",
        "Detailed instructions for saving to HTML can be found <a href=\"https://stackoverflow.com/questions/53460051/convert-ipynb-notebook-to-html-in-google-colab/64487858#64487858\">here</a>. Provided below are a summary of the instructions:\n",
        "\n",
        "(1) download your ipynb file by clicking on File->Download.ipynb\n",
        "\n",
        "(2) reupload your file to the temporary Google Colab storage (you can access the temporary storage from the tab to the left)\n",
        "\n",
        "(3) run the following:"
      ]
    },
    {
      "cell_type": "code",
      "source": [
        "from google.colab import drive\n",
        "drive.mount('/content/drive')"
      ],
      "metadata": {
        "id": "aW8Kd8kwC5oz"
      },
      "execution_count": null,
      "outputs": []
    },
    {
      "cell_type": "code",
      "execution_count": null,
      "metadata": {
        "id": "2TrsqdNgS5ex"
      },
      "outputs": [],
      "source": [
        "%%shell\n",
        "jupyter nbconvert --to html /content/drive/MyDrive/MIE1517-TA-2025/A2.ipynb"
      ]
    },
    {
      "cell_type": "markdown",
      "metadata": {
        "id": "nuXhlFlPTY7F"
      },
      "source": [
        "(4) the html file will be available for download in the temporary Google Colab storage\n",
        "\n",
        "(5) review the html file and make sure all the results are visible before submitting your assignment to Quercus"
      ]
    },
    {
      "cell_type": "markdown",
      "metadata": {
        "id": "cLzCpNFMhgxO"
      },
      "source": [
        "# Assignment Grading Rubric\n",
        "The grading of the assignment will be based on the following categories:\n",
        "\n",
        "(0) **5 Pt - DATA** Generating new data to evaluate your model.\n",
        "\n",
        "(1) **9 Pt - EXPLORATORY QUESTIONS** These are basic questions that in most cases can be answered without requiring a fully working and trained neural network model. For example, data loading, processing and visualization, summary statistics, data exploration, model and training setup, etc.\n",
        "\n",
        "(2) **9 Pt - MODEL** Student has successfully implemented all the required neural network models and has demonstrated successful training of the model without any errors.\n",
        "\n",
        "(3) **9 Pt - RESULT** Students are evaluated based on the results achieved in comparison to the expected results of the assignment.\n",
        "\n",
        "(4) **9 Pt - DISCUSSION QUESTIONS** Student demonstrated understanding beyond the basic exploratory questions, can answer some of the more challenging questions, and provide arguments for their model selection decisions.\n",
        "\n",
        "(5) **9 Pt - COMMUNICATION** Student has provided a quality submission that is easy to read without too many unnecessary output statements that distract the reading of the document. The code has been well commented and all the answers are communicated clearly and concisely.\n",
        "\n",
        "(6) **5 Pt - BONUS** Student has completed the assignment and has taken on the challenging bonus tasks listed in PART C. The student has demonstrated a good understanding of all aspects of the assignment and has exceeded expectations for the assignment.\n",
        "\n",
        "\n",
        "\n",
        "**TOTAL GRADE = _____ of 50 Pts**"
      ]
    }
  ],
  "metadata": {
    "colab": {
      "provenance": []
    },
    "kernelspec": {
      "display_name": "Python 3",
      "language": "python",
      "name": "python3"
    },
    "language_info": {
      "codemirror_mode": {
        "name": "ipython",
        "version": 3
      },
      "file_extension": ".py",
      "mimetype": "text/x-python",
      "name": "python",
      "nbconvert_exporter": "python",
      "pygments_lexer": "ipython3",
      "version": "3.7.4"
    }
  },
  "nbformat": 4,
  "nbformat_minor": 0
}